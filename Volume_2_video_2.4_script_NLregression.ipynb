{
 "cells": [
  {
   "cell_type": "code",
   "execution_count": 1,
   "metadata": {
    "collapsed": false
   },
   "outputs": [
    {
     "data": {
      "application/javascript": [
       "IPython.notebook.set_autosave_interval(0)"
      ]
     },
     "metadata": {},
     "output_type": "display_data"
    },
    {
     "name": "stdout",
     "output_type": "stream",
     "text": [
      "Autosave disabled\n"
     ]
    }
   ],
   "source": [
    "%autosave 0"
   ]
  },
  {
   "cell_type": "code",
   "execution_count": 2,
   "metadata": {
    "collapsed": false
   },
   "outputs": [
    {
     "data": {
      "text/html": [
       "<style>\n",
       "\n",
       "div#notebook, div.CodeMirror, div.output_area pre, div.output_wrapper, div.promp\n",
       "t {\n",
       "  font-family: 'Inconsolata', monospace !important;\n",
       "  font-size: 14px;\n",
       "}\n",
       "\n",
       "@font-face {\n",
       "    font-family: \"Computer Modern\";\n",
       "    src: url('http://mirrors.ctan.org/fonts/cm-unicode/fonts/otf/cmunss.otf');\n",
       "}\n",
       "\n",
       "#notebook_panel { /* main background */\n",
       "    background: rgb(245,245,245);\n",
       "}\n",
       "\n",
       "div.cell { /* set cell width */\n",
       "    width: 850px;\n",
       "}\n",
       "\n",
       "div #notebook { /* centre the content */\n",
       "    background: #fff; /* white background for content */\n",
       "    width: 1000px;\n",
       "    margin: auto;\n",
       "    padding-left: 0em;\n",
       "}\n",
       "\n",
       "#notebook li { /* More space between bullet points */\n",
       "margin-top:0.8em;\n",
       "}\n",
       "\n",
       "/* draw border around running cells */\n",
       "div.cell.border-box-sizing.code_cell.running { \n",
       "    border: 1px solid #111;\n",
       "}\n",
       "\n",
       "/* Put a solid color box around each cell and its output, visually linking them*/\n",
       "div.cell.code_cell {\n",
       "    background-color: rgb(256,256,256); \n",
       "    border-radius: 0px; \n",
       "    padding: 0.5em;\n",
       "    margin-left:1em;\n",
       "    margin-top: 1em;\n",
       "}\n",
       "\n",
       "div.text_cell_render{\n",
       "    font-family: 'Alegreya Sans' sans-serif;\n",
       "    line-height: 140%;\n",
       "    font-size: 125%;\n",
       "    font-weight: 400;\n",
       "    width:700px;\n",
       "    margin-left:auto;\n",
       "    margin-right:auto;\n",
       "}\n",
       "\n",
       "\n",
       "/* Formatting for header cells */\n",
       ".text_cell_render h1 {\n",
       "    font-family: 'Nixie One', serif;\n",
       "    font-style:regular;\n",
       "    font-weight: 400;    \n",
       "    font-size: 45pt;\n",
       "    line-height: 100%;\n",
       "    color: rgb(0,51,102);\n",
       "    margin-bottom: 0.5em;\n",
       "    margin-top: 0.5em;\n",
       "    display: block;\n",
       "}\t\n",
       ".text_cell_render h2 {\n",
       "    font-family: 'Nixie One', serif;\n",
       "    font-weight: 400;\n",
       "    font-size: 30pt;\n",
       "    line-height: 100%;\n",
       "    color: rgb(0,51,102);\n",
       "    margin-bottom: 0.1em;\n",
       "    margin-top: 0.3em;\n",
       "    display: block;\n",
       "}\t\n",
       "\n",
       ".text_cell_render h3 {\n",
       "    font-family: 'Nixie One', serif;\n",
       "    margin-top:16px;\n",
       "\tfont-size: 22pt;\n",
       "    font-weight: 600;\n",
       "    margin-bottom: 3px;\n",
       "    font-style: regular;\n",
       "    color: rgb(102,102,0);\n",
       "}\n",
       "\n",
       ".text_cell_render h4 {    /*Use this for captions*/\n",
       "    font-family: 'Nixie One', serif;\n",
       "    font-size: 14pt;\n",
       "    text-align: center;\n",
       "    margin-top: 0em;\n",
       "    margin-bottom: 2em;\n",
       "    font-style: regular;\n",
       "}\n",
       "\n",
       ".text_cell_render h5 {  /*Use this for small titles*/\n",
       "    font-family: 'Nixie One', sans-serif;\n",
       "    font-weight: 400;\n",
       "    font-size: 16pt;\n",
       "    color: rgb(163,0,0);\n",
       "    font-style: italic;\n",
       "    margin-bottom: .1em;\n",
       "    margin-top: 0.8em;\n",
       "    display: block;\n",
       "}\n",
       "\n",
       ".text_cell_render h6 { /*use this for copyright note*/\n",
       "    font-family: 'PT Mono', sans-serif;\n",
       "    font-weight: 300;\n",
       "    font-size: 9pt;\n",
       "    line-height: 100%;\n",
       "    color: grey;\n",
       "    margin-bottom: 1px;\n",
       "    margin-top: 1px;\n",
       "}\n",
       "\n",
       ".CodeMirror{\n",
       "        font-family: \"PT Mono\";\n",
       "        font-size: 90%;\n",
       "}\n",
       "\n",
       "</style>\n",
       "<script>\n",
       "    MathJax.Hub.Config({\n",
       "                        TeX: {\n",
       "                           extensions: [\"AMSmath.js\"],\n",
       "                           equationNumbers: { autoNumber: \"AMS\", useLabelIds: true}\n",
       "                           },\n",
       "                tex2jax: {\n",
       "                    inlineMath: [ ['$','$'], [\"\\\\(\",\"\\\\)\"] ],\n",
       "                    displayMath: [ ['$$','$$'], [\"\\\\[\",\"\\\\]\"] ]\n",
       "                },\n",
       "                displayAlign: 'center', // Change this to 'center' to center equations.\n",
       "                \"HTML-CSS\": {\n",
       "                    styles: {'.MathJax_Display': {\"margin\": 4}}\n",
       "                }\n",
       "        });\n",
       "</script>\n"
      ],
      "text/plain": [
       "<IPython.core.display.HTML object>"
      ]
     },
     "execution_count": 2,
     "metadata": {},
     "output_type": "execute_result"
    }
   ],
   "source": [
    "from IPython.core.display import HTML\n",
    "#css_file = '../../../style/style03my.css'\n",
    "css_file = '../../../style/style01.css'\n",
    "HTML(open(css_file, \"r\").read())"
   ]
  },
  {
   "cell_type": "markdown",
   "metadata": {},
   "source": [
    ">### [Sergio Rojas](http://prof.usb.ve/srojas)<br>\n",
    "[Departamento de F&iacute;sica](http://www.fis.usb.ve/), [Universidad Sim&oacute;n Bol&iacute;var](http://www.usb.ve/), [Venezuela](http://es.wikipedia.org/wiki/Venezuela)"
   ]
  },
  {
   "cell_type": "markdown",
   "metadata": {},
   "source": [
    ">#### Content under [Creative Commons Attribution license CC-BY 4.0](http://creativecommons.org/licenses/by/4.0/), [code under MIT license (c)](http://en.wikipedia.org/wiki/MIT_License)2016-2017 Sergio Rojas (srojas@usb.ve).###"
   ]
  },
  {
   "cell_type": "code",
   "execution_count": 3,
   "metadata": {
    "collapsed": true
   },
   "outputs": [],
   "source": [
    "from IPython.display import HTML\n",
    "from IPython.display import Image"
   ]
  },
  {
   "cell_type": "code",
   "execution_count": 4,
   "metadata": {
    "collapsed": false
   },
   "outputs": [],
   "source": [
    "#HTML('<iframe src=https://en.wikipedia.org/wiki/Mathematical_optimization width=700 height=350></iframe>')"
   ]
  },
  {
   "cell_type": "code",
   "execution_count": 5,
   "metadata": {
    "collapsed": false
   },
   "outputs": [],
   "source": [
    "#Image(filename='./Volume_2_Video_2.1_figs/vol2_v21_0x_Jderivatives.png', width=720, height=720)"
   ]
  },
  {
   "cell_type": "code",
   "execution_count": 6,
   "metadata": {
    "collapsed": false
   },
   "outputs": [],
   "source": [
    "#Image(filename='./img/fig_basic_regression.png', width=720, height=720)"
   ]
  },
  {
   "cell_type": "markdown",
   "metadata": {
    "collapsed": true
   },
   "source": [
    "### [Overview of the regression problem](https://en.wikipedia.org/wiki/Regression_analysis)"
   ]
  },
  {
   "cell_type": "markdown",
   "metadata": {},
   "source": [
    "\\begin{aligned}\n",
    "        {\\textbf h}(\\mathbf{\\theta}) = \\theta_0 {\\textbf X}_0 + \\theta_1 F_1({\\textbf X}_1) + \\theta_2 F_2({\\textbf X}_2) + \\cdots + \\theta_n F_n({\\textbf X}_n)        \n",
    "        \\end{aligned}"
   ]
  },
  {
   "cell_type": "markdown",
   "metadata": {},
   "source": [
    "We can always do the assigment ${\\textbf X}_i \\leftarrow F_i({\\textbf X}_i)$ (or in Python programming assignment ${\\textbf X}_i = F_i({\\textbf X}_i)$) to get the standard linear model:"
   ]
  },
  {
   "cell_type": "markdown",
   "metadata": {},
   "source": [
    "\\begin{aligned}\n",
    "        {\\textbf h}(\\mathbf{\\theta}) = \\theta_0 {\\textbf X}_0 + \\theta_1 {\\textbf X}_1 + \\theta_2 {\\textbf X}_2 + \\cdots + \\theta_n {\\textbf X}_n        \n",
    "        \\end{aligned}"
   ]
  },
  {
   "cell_type": "markdown",
   "metadata": {
    "collapsed": true
   },
   "source": [
    "### [The linear regression problem](https://en.wikipedia.org/wiki/Regression_analysis)"
   ]
  },
  {
   "cell_type": "markdown",
   "metadata": {},
   "source": [
    "\\begin{aligned}\n",
    "        {\\textbf h}(\\mathbf{\\theta}) = \\theta_0 {\\textbf X}_0 + \\theta_1 {\\textbf X}_1 + \\theta_2 {\\textbf X}_2 + \\cdots + \\theta_n {\\textbf X}_n =       \n",
    "%        \n",
    "\\begin{pmatrix} {\\textbf X}_0 \\; {\\textbf X}_1 \\; {\\textbf X}_2 \\; \\cdots \\; {\\textbf X}_n \\end{pmatrix}\n",
    "        \\begin{pmatrix}\\theta_0 \\\\\n",
    "                       \\theta_1 \\\\\n",
    "                       \\theta_2 \\\\\n",
    "                       \\vdots \\\\\n",
    "                       \\theta_n \\end{pmatrix}\n",
    "        %\n",
    "        \\end{aligned}"
   ]
  },
  {
   "cell_type": "markdown",
   "metadata": {},
   "source": [
    "\\begin{aligned}\n",
    "        J(\\theta) &= \\frac{1}{2m}\\sum_{i=1}^m \\left[ h^{(i)}(\\theta)-y^{(i)}\\right]^2 \\\\\n",
    "                  &= \\frac{1}{2m}\\sum_{i=1}^m \\left[ \\theta_0 X_0^{(i)} + \\theta_1 X_1^{(i)} + \\theta_2 X_2^{(i)} + \\cdots + \\theta_n X_n^{(i)} - y^{(i)}\\right]^2,\n",
    "        \\end{aligned}"
   ]
  },
  {
   "cell_type": "markdown",
   "metadata": {},
   "source": [
    "\\begin{aligned}\n",
    "       X = \n",
    "        \\begin{pmatrix}\n",
    "               X_0^{(1)} \\quad X_1^{(1)} \\quad X_2^{(1)} \\quad \\cdots \\quad X_n^{(1)} \\\\\n",
    "               X_0^{(2)} \\quad X_1^{(2)} \\quad X_2^{(2)} \\quad \\cdots \\quad X_n^{(2)} \\\\\n",
    "               X_0^{(3)} \\quad X_1^{(3)} \\quad X_2^{(3)} \\quad \\cdots \\quad X_n^{(3)} \\\\\n",
    "                \\vdots   \\quad  \\vdots   \\quad \\vdots    \\quad \\vdots \\quad \\vdots  \\\\\n",
    "               X_0^{(m)} \\quad X_1^{(m)} \\quad X_2^{(m)} \\quad \\cdots \\quad X_n^{(m)}\n",
    "         \\end{pmatrix}\n",
    "\\end{aligned}"
   ]
  },
  {
   "cell_type": "markdown",
   "metadata": {
    "collapsed": true
   },
   "source": [
    "### The Gradient Descent algorithm"
   ]
  },
  {
   "cell_type": "markdown",
   "metadata": {},
   "source": [
    "\\begin{aligned}\n",
    "\\theta_k = \\theta_k - \\alpha \\frac{\\partial J(\\theta)}{\\!\\!\\!\\! \\partial \\theta_k}, \n",
    "\\end{aligned}"
   ]
  },
  {
   "cell_type": "markdown",
   "metadata": {
    "collapsed": true
   },
   "source": [
    "##### Derivatives of the squared error cost function"
   ]
  },
  {
   "cell_type": "markdown",
   "metadata": {
    "collapsed": true
   },
   "source": [
    "\\begin{aligned}\n",
    "\\begin{pmatrix} \n",
    "             \\frac{\\partial J(\\theta)}{\\!\\!\\!\\! \\partial \\theta_0} \\\\ \n",
    "             \\frac{\\partial J(\\theta)}{\\!\\!\\!\\! \\partial \\theta_1} \\\\\n",
    "             \\frac{\\partial J(\\theta)}{\\!\\!\\!\\! \\partial \\theta_2} \\\\ \n",
    "                        \\vdots \\\\\n",
    "             \\frac{\\partial J(\\theta)}{\\!\\!\\!\\! \\partial \\theta_n} \n",
    "         \\end{pmatrix} =\n",
    "   \\frac{1}{m}\\left[ \\mathbf{-X}^{\\rm T} \\mathbf y+ (\\mathbf X^{\\rm T} \\mathbf X ){\\boldsymbol{\\theta}} \\right]   =\n",
    "   \\frac{1}{m}\\mathbf{X}^{\\rm T} \\left[ \\mathbf X {\\boldsymbol{\\theta}} - \\mathbf y  \\right]\n",
    "\\end{aligned}"
   ]
  },
  {
   "cell_type": "markdown",
   "metadata": {},
   "source": [
    "##### Computing the J cost function"
   ]
  },
  {
   "cell_type": "code",
   "execution_count": 7,
   "metadata": {
    "collapsed": true
   },
   "outputs": [],
   "source": [
    "def JcostF(theta, X, y):\n",
    "    #----\n",
    "    # In this function it is computed the J squared error cost function\n",
    "    # or the function to which the minimum is going to be found\n",
    "    #\n",
    "    # The input parameters are the data points defining the function\n",
    "    #      \n",
    "    #       X : as a column matrix \n",
    "    #       y : as a column vector\n",
    "    #   theta : the parameters fitting the model\n",
    "    #\n",
    "    # Author: Sergio Rojas\n",
    "    #----\n",
    "    import numpy as np\n",
    "    m = len(y) # number of training examples\n",
    "    #\n",
    "    h = np.dot(X,theta) # also: X.dot(theta)\n",
    "    square = (h-y)**2\n",
    "    J = 1.0/(2.0*m) * np.sum(square)\n",
    "    #\n",
    "    return J"
   ]
  },
  {
   "cell_type": "markdown",
   "metadata": {},
   "source": [
    "##### Our implementation of Gradient Descent"
   ]
  },
  {
   "cell_type": "code",
   "execution_count": 8,
   "metadata": {
    "collapsed": false
   },
   "outputs": [],
   "source": [
    "def GradientDescent(X, y, theta, alpha, MAX_ITERS=1000, tolerance = 1e-05 ):\n",
    "    #----\n",
    "    # In this function it is computed the gradient descent algorithm\n",
    "    # that updates the thetas:\n",
    "    #\n",
    "    # The input parameters:\n",
    "    #      \n",
    "    #       X : as a column matrix \n",
    "    #       y : as a column vector\n",
    "    #   theta : the parameters fitting the model\n",
    "    #   alpha : the learning rate\n",
    "    #  \n",
    "    # Author: Sergio Rojas\n",
    "    #----\n",
    "    import numpy as np\n",
    "    m = len(y) # number of training examples\n",
    "    J = np.array([])\n",
    "    tol = 1\n",
    "    k = 0\n",
    "    while (tol > tolerance) and (k <= MAX_ITERS):\n",
    "        k = k + 1\n",
    "        h = np.dot(X,theta)\n",
    "        temp = np.dot(np.transpose(h-y),X)\n",
    "        temp = np.transpose(temp)        \n",
    "        oldtheta = theta\n",
    "        theta = theta - (alpha/m)*temp\n",
    "        tol = np.sum(np.abs(theta-oldtheta))        \n",
    "        J = np.append( J, JcostF(theta, X, y) ) \n",
    "        #tol = np.abs( JcostF(oldtheta, X, y) - JcostF(theta, X, y) )\n",
    "    if k >= MAX_ITERS:\n",
    "      print('WARNING!!!')\n",
    "      print('A number of {0} iterations (>= MAX_ITERS) was reached'.format(k))\n",
    "      print('you might want rerun the code using the reported  values for theta. \\n')\n",
    "    else:\n",
    "        print('\\t Convergence was reached after {0} iterations. \\n'.format(k))\n",
    "\n",
    "    return theta, J"
   ]
  },
  {
   "cell_type": "markdown",
   "metadata": {},
   "source": [
    "##### [Example: UCI Machine Learning Repository housing data set](https://archive.ics.uci.edu/ml/datasets/Housing)"
   ]
  },
  {
   "cell_type": "code",
   "execution_count": 9,
   "metadata": {
    "collapsed": false
   },
   "outputs": [],
   "source": [
    "import numpy as np\n",
    "import matplotlib.pylab as plt\n",
    "%matplotlib inline \n",
    "\n",
    "datafile = './Data/housing.data'\n",
    "data = np.genfromtxt(datafile)\n",
    "\n",
    "LSTATcol = 12 \n",
    "MEDVcol = 13  \n",
    "LSTATData = data[:,LSTATcol]\n",
    "MEDVData = data[:,MEDVcol]\n",
    "\n",
    "x1 = LSTATData\n",
    "y = MEDVData"
   ]
  },
  {
   "cell_type": "markdown",
   "metadata": {},
   "source": [
    "##### Plot the data"
   ]
  },
  {
   "cell_type": "code",
   "execution_count": 10,
   "metadata": {
    "collapsed": false
   },
   "outputs": [
    {
     "data": {
      "image/png": "[encoded data removed]",
      "text/plain": [
       "<matplotlib.figure.Figure at 0x7f21c0e83b00>"
      ]
     },
     "metadata": {},
     "output_type": "display_data"
    }
   ],
   "source": [
    "fig = plt.figure(figsize=(10, 6))\n",
    "x = x1\n",
    "ax = fig.add_subplot(1, 1, 1)\n",
    "ax.plot(x, y, 'ro')\n",
    "ax.set_xlabel('LSTAT', fontsize = 30)\n",
    "ax.set_ylabel('House price (MEDV) in $1000', fontsize = 20)\n",
    "\n",
    "ax.set_xbound(np.min(x)-1., np.max(x)+1)\n",
    "ax.set_ybound(np.min(y)-1., np.max(y)+1)\n",
    "\n",
    "ax.set_xticks(np.round(np.linspace(np.min(x)-1., np.max(x)+1, 5)))\n",
    "ax.set_yticks(np.round(np.linspace(np.min(y)-1., np.max(y)+1, 5)))\n",
    "plt.show()"
   ]
  },
  {
   "cell_type": "markdown",
   "metadata": {},
   "source": [
    "##### Plot the transformed  data"
   ]
  },
  {
   "cell_type": "code",
   "execution_count": 11,
   "metadata": {
    "collapsed": false
   },
   "outputs": [
    {
     "data": {
      "image/png": "[encoded data removed]",
      "text/plain": [
       "<matplotlib.figure.Figure at 0x7f21c0e44c88>"
      ]
     },
     "metadata": {},
     "output_type": "display_data"
    }
   ],
   "source": [
    "\n",
    "fig = plt.figure(figsize=(20, 10))\n",
    "\n",
    "x = 1/x1 # Hyperbolic decay\n",
    "ax = fig.add_subplot(1, 2, 1)\n",
    "ax.plot(x, y, 'ro')\n",
    "ax.set_xlabel(r'$\\frac{1}{LSTAT}$', fontsize = 30)\n",
    "ax.set_ylabel('House price (MEDV) in $1000', fontsize = 30)\n",
    "\n",
    "ax.set_xbound(np.min(x)-1., np.max(x)+1)\n",
    "ax.set_ybound(np.min(y)-1., np.max(y)+1)\n",
    "\n",
    "ax.set_xticks(np.round(np.linspace(np.min(x)-1., np.max(x)+1, 5)))\n",
    "ax.set_yticks(np.round(np.linspace(np.min(y)-1., np.max(y)+1, 5)))\n",
    "\n",
    "x = np.exp(-x1) # exponential decay\n",
    "ax = fig.add_subplot(1, 2, 2)\n",
    "ax.plot(x, y, 'ro')\n",
    "ax.set_xlabel(r'$e^{- LSTAT}$', fontsize = 30)\n",
    "ax.set_ylabel('House price (MEDV) in $1000', fontsize = 30)\n",
    "\n",
    "ax.set_xbound(np.min(x)-1., np.max(x)+1)\n",
    "ax.set_ybound(np.min(y)-1., np.max(y)+1)\n",
    "\n",
    "ax.set_xticks(np.round(np.linspace(np.min(x)-1., np.max(x)+1, 5)))\n",
    "ax.set_yticks(np.round(np.linspace(np.min(y)-1., np.max(y)+1, 5)))\n",
    "\n",
    "plt.show()"
   ]
  },
  {
   "cell_type": "markdown",
   "metadata": {},
   "source": [
    "##### Gradient descent on the data"
   ]
  },
  {
   "cell_type": "code",
   "execution_count": 12,
   "metadata": {
    "collapsed": false
   },
   "outputs": [],
   "source": [
    "x=1/x1\n",
    "X = np.column_stack(( np.ones(len(x)), x ))"
   ]
  },
  {
   "cell_type": "code",
   "execution_count": 13,
   "metadata": {
    "collapsed": false
   },
   "outputs": [
    {
     "name": "stdout",
     "output_type": "stream",
     "text": [
      "\t Convergence was reached after 14754 iterations. \n",
      "\n",
      "theta = [ 11.8359267   94.83573412]\n"
     ]
    }
   ],
   "source": [
    "theta0 = np.array([2.,2.])   # guess 1\n",
    "th, J = GradientDescent(X, y, theta0, 0.1, 50000)\n",
    "print('theta =',th)"
   ]
  },
  {
   "cell_type": "code",
   "execution_count": 14,
   "metadata": {
    "collapsed": false
   },
   "outputs": [
    {
     "name": "stdout",
     "output_type": "stream",
     "text": [
      "15.3830978104\n"
     ]
    }
   ],
   "source": [
    "print(JcostF(th, X, y))"
   ]
  },
  {
   "cell_type": "markdown",
   "metadata": {},
   "source": [
    "##### Transformed data: Plot the data and its fit "
   ]
  },
  {
   "cell_type": "code",
   "execution_count": 15,
   "metadata": {
    "collapsed": false
   },
   "outputs": [],
   "source": [
    "fitted_y = np.dot(X,th)"
   ]
  },
  {
   "cell_type": "code",
   "execution_count": 16,
   "metadata": {
    "collapsed": false
   },
   "outputs": [
    {
     "data": {
      "image/png": "[encoded data removed]",
      "text/plain": [
       "<matplotlib.figure.Figure at 0x7f21bdc21b00>"
      ]
     },
     "metadata": {},
     "output_type": "display_data"
    }
   ],
   "source": [
    "fig = plt.figure()\n",
    "ax = fig.add_subplot(1, 1, 1)\n",
    "ax.plot(x, y, 'ro')\n",
    "ax.plot(x, fitted_y, 'b-', lw=2 )\n",
    "\n",
    "ax.set_xlabel(r'$\\frac{1}{LSTAT}$', fontsize = 20)\n",
    "ax.set_ylabel('House price (MEDV) in $1000', fontsize = 15)\n",
    "\n",
    "ax.set_xbound(np.min(x)-1., np.max(x)+1)\n",
    "ax.set_ybound(np.min(y)-1., np.max(y)+1)\n",
    "\n",
    "ax.set_xticks(np.round(np.linspace(np.min(x)-1., np.max(x)+1, 5)))\n",
    "ax.set_yticks(np.round(np.linspace(np.min(y)-1., np.max(y)+1, 5)))\n",
    "\n",
    "plt.show()"
   ]
  },
  {
   "cell_type": "markdown",
   "metadata": {},
   "source": [
    "##### Original data: Plot the data and its fit "
   ]
  },
  {
   "cell_type": "code",
   "execution_count": 17,
   "metadata": {
    "collapsed": false
   },
   "outputs": [],
   "source": [
    "fitted_y = th[0] + th[1]/x1  # x1 = LSTATData\n",
    "thetitle = r'The model: $ y = {0:5.3f} + \\frac{{ {1:5.3f} }}{{ LSTAT }}$'.format(th[0],th[1])"
   ]
  },
  {
   "cell_type": "code",
   "execution_count": 18,
   "metadata": {
    "collapsed": false
   },
   "outputs": [
    {
     "data": {
      "image/png": "[encoded data removed]",
      "text/plain": [
       "<matplotlib.figure.Figure at 0x7f21c0e82b38>"
      ]
     },
     "metadata": {},
     "output_type": "display_data"
    }
   ],
   "source": [
    "x =x1\n",
    "fig = plt.figure()\n",
    "ax = fig.add_subplot(1, 1, 1)\n",
    "ax.plot(x, y, 'ro')\n",
    "ax.plot(x, fitted_y, 'b.', lw=2 )\n",
    "\n",
    "ax.set_title(thetitle, fontsize = 20, y = 1.08)\n",
    "ax.set_xlabel('LSTAT', fontsize = 12)\n",
    "ax.set_ylabel('House price (MEDV) in $1000', fontsize = 12)\n",
    "\n",
    "ax.set_xbound(np.min(x)-1., np.max(x)+1)\n",
    "ax.set_ybound(np.min(y)-1., np.max(y)+1)\n",
    "\n",
    "ax.set_xticks(np.round(np.linspace(np.min(x)-1., np.max(x)+1, 5)))\n",
    "ax.set_yticks(np.round(np.linspace(np.min(y)-1., np.max(y)+1, 5)))\n",
    "\n",
    "plt.show()"
   ]
  },
  {
   "cell_type": "markdown",
   "metadata": {},
   "source": [
    "##### Solving the problem using SciPy functions"
   ]
  },
  {
   "cell_type": "code",
   "execution_count": 19,
   "metadata": {
    "collapsed": false
   },
   "outputs": [
    {
     "name": "stdout",
     "output_type": "stream",
     "text": [
      "intercept = 11.83419793000439 slope = 94.8509707039045\n"
     ]
    }
   ],
   "source": [
    "# check with scipy linear regression \n",
    "from scipy import stats\n",
    "slope, intercept, rvalue, pvalue, stderror = stats.linregress(X[:,1], y)\n",
    "print ( ('intercept = {0} slope = {1}').format(intercept, slope) )"
   ]
  },
  {
   "cell_type": "code",
   "execution_count": 20,
   "metadata": {
    "collapsed": false
   },
   "outputs": [
    {
     "name": "stdout",
     "output_type": "stream",
     "text": [
      "15.3830971181\n"
     ]
    }
   ],
   "source": [
    "print(JcostF(np.array([intercept, slope]), X, y))"
   ]
  },
  {
   "cell_type": "code",
   "execution_count": 21,
   "metadata": {
    "collapsed": false
   },
   "outputs": [
    {
     "data": {
      "text/plain": [
       "     fun: 15.383097118335115\n",
       "     jac: array([ -9.89437103e-06,   5.96046448e-07])\n",
       " message: 'Optimization terminated successfully.'\n",
       "    nfev: 556\n",
       "     nit: 33\n",
       "    njev: 139\n",
       "  status: 0\n",
       " success: True\n",
       "       x: array([ 11.83415726,  94.85124336])"
      ]
     },
     "execution_count": 21,
     "metadata": {},
     "output_type": "execute_result"
    }
   ],
   "source": [
    "from scipy import optimize\n",
    "optimize.minimize(JcostF, x0=[2, 2],args=(X,y), method='CG', jac=False)"
   ]
  },
  {
   "cell_type": "code",
   "execution_count": 22,
   "metadata": {
    "collapsed": false
   },
   "outputs": [
    {
     "data": {
      "text/plain": [
       "      fun: 15.383097118067402\n",
       " hess_inv: <2x2 LbfgsInvHessProduct with dtype=float64>\n",
       "      jac: array([  1.06581410e-06,   0.00000000e+00])\n",
       "  message: b'CONVERGENCE: NORM_OF_PROJECTED_GRADIENT_<=_PGTOL'\n",
       "     nfev: 30\n",
       "      nit: 6\n",
       "   status: 0\n",
       "  success: True\n",
       "        x: array([ 11.83419582,  94.85099963])"
      ]
     },
     "execution_count": 22,
     "metadata": {},
     "output_type": "execute_result"
    }
   ],
   "source": [
    "optimize.minimize(JcostF, x0=[2, 2],args=(X,y), method='L-BFGS-B', jac=False)"
   ]
  },
  {
   "cell_type": "markdown",
   "metadata": {},
   "source": [
    "## How to improve this study"
   ]
  },
  {
   "cell_type": "markdown",
   "metadata": {},
   "source": [
    "### <font color=red>References</font> #\n",
    "\n",
    "Additional discussion and examples can be found at:\n",
    "\n",
    "- [Random sample consensus (RANSAC) algorithm](http://scipy-cookbook.readthedocs.io/items/RANSAC.html)\n",
    "- [SciPy Cookbook: Optimization and fitting](http://scipy-cookbook.readthedocs.io/items/idx_optimization_and_fitting.html)\n"
   ]
  },
  {
   "cell_type": "markdown",
   "metadata": {},
   "source": [
    ">#### Content under [Creative Commons Attribution license CC-BY 4.0](http://creativecommons.org/licenses/by/4.0/), [code under MIT license (c)](http://en.wikipedia.org/wiki/MIT_License)2016-2017 Sergio Rojas (srojas@usb.ve). ###\n"
   ]
  },
  {
   "cell_type": "code",
   "execution_count": null,
   "metadata": {
    "collapsed": true
   },
   "outputs": [],
   "source": []
  }
 ],
 "metadata": {
  "anaconda-cloud": {},
  "kernelspec": {
   "display_name": "Python [Root]",
   "language": "python",
   "name": "Python [Root]"
  },
  "language_info": {
   "codemirror_mode": {
    "name": "ipython",
    "version": 3
   },
   "file_extension": ".py",
   "mimetype": "text/x-python",
   "name": "python",
   "nbconvert_exporter": "python",
   "pygments_lexer": "ipython3",
   "version": "3.5.1"
  }
 },
 "nbformat": 4,
 "nbformat_minor": 0
}
