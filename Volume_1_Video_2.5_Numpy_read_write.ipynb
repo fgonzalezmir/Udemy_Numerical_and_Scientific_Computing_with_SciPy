{
 "cells": [
  {
   "cell_type": "code",
   "execution_count": 1,
   "metadata": {
    "collapsed": false
   },
   "outputs": [
    {
     "data": {
      "application/javascript": [
       "IPython.notebook.set_autosave_interval(0)"
      ]
     },
     "metadata": {},
     "output_type": "display_data"
    },
    {
     "name": "stdout",
     "output_type": "stream",
     "text": [
      "Autosave disabled\n"
     ]
    }
   ],
   "source": [
    "%autosave 0"
   ]
  },
  {
   "cell_type": "code",
   "execution_count": 2,
   "metadata": {
    "collapsed": false
   },
   "outputs": [
    {
     "data": {
      "text/html": [
       "<style>\n",
       "\n",
       "div#notebook, div.CodeMirror, div.output_area pre, div.output_wrapper, div.promp\n",
       "t {\n",
       "  font-family: 'Inconsolata', monospace !important;\n",
       "  font-size: 16px;\n",
       "}\n",
       "\n",
       "</style>\n",
       "<script>\n",
       "    MathJax.Hub.Config({\n",
       "                        TeX: {\n",
       "                           extensions: [\"AMSmath.js\"],\n",
       "                           equationNumbers: { autoNumber: \"AMS\", useLabelIds: true}\n",
       "                           },\n",
       "                tex2jax: {\n",
       "                    inlineMath: [ ['$','$'], [\"\\\\(\",\"\\\\)\"] ],\n",
       "                    displayMath: [ ['$$','$$'], [\"\\\\[\",\"\\\\]\"] ]\n",
       "                },\n",
       "                displayAlign: 'center', // Change this to 'center' to center equations.\n",
       "                \"HTML-CSS\": {\n",
       "                    styles: {'.MathJax_Display': {\"margin\": 4}}\n",
       "                }\n",
       "        });\n",
       "</script>\n"
      ],
      "text/plain": [
       "<IPython.core.display.HTML object>"
      ]
     },
     "execution_count": 2,
     "metadata": {},
     "output_type": "execute_result"
    }
   ],
   "source": [
    "from IPython.core.display import HTML\n",
    "css_file = '../../../style/style03my.css'\n",
    "HTML(open(css_file, \"r\").read())"
   ]
  },
  {
   "cell_type": "markdown",
   "metadata": {},
   "source": [
    ">### [Sergio Rojas](http://prof.usb.ve/srojas)<br>\n",
    "[Departamento de F&iacute;sica](http://www.fis.usb.ve/), [Universidad Sim&oacute;n Bol&iacute;var](http://www.usb.ve/), [Venezuela](http://es.wikipedia.org/wiki/Venezuela)"
   ]
  },
  {
   "cell_type": "markdown",
   "metadata": {},
   "source": [
    ">#### Content under [Creative Commons Attribution license CC-BY 4.0](http://creativecommons.org/licenses/by/4.0/), [code under MIT license (c)](http://en.wikipedia.org/wiki/MIT_License)2016-2017 Sergio Rojas (srojas@usb.ve).###"
   ]
  },
  {
   "cell_type": "markdown",
   "metadata": {},
   "source": [
    "# <center> NumPy functionality for <font color=red>reading</font> and  <font color=red>writing</font> data from file</center>\n",
    "\n",
    "An important issue when performing scientific computation is to count with an efficient way to read from and write to disk data because such operations, thought important, are in general very slow particularly in this era of big data analysis.\n",
    "\n",
    "In this regards, NumPy offer a simple enough functionality for the purpose of reading non-binary data from disk: [genfromtxt()](http://docs.scipy.org/doc/numpy/reference/generated/numpy.genfromtxt.html) [http://docs.scipy.org/doc/numpy/reference/generated/numpy.genfromtxt.html], and write (store) data to disk: [savetxt()](http://docs.scipy.org/doc/numpy/reference/generated/numpy.savetxt.html) [http://docs.scipy.org/doc/numpy/reference/generated/numpy.savetxt.html]. You can browse them to familiarize yourself with the many options they offer to read and write text data."
   ]
  },
  {
   "cell_type": "markdown",
   "metadata": {},
   "source": [
    "# Reading data with genfromtxt()\n",
    "\n",
    "From the main documentation of [genfromtxt()](http://docs.scipy.org/doc/numpy/reference/generated/numpy.genfromtxt.html) [http://docs.scipy.org/doc/numpy/reference/generated/numpy.genfromtxt.html] a basic usage of such function to read data could contain:\n",
    "\n",
    "<ul>\n",
    "<li> \n",
    "    The **filename** as the only mandatory argument which contain the full path of the\n",
    "                   file to be read.\n",
    "<li>\n",
    "    The keywords **skip_header** and **skip_footer** to indicate lines to skip\n",
    "                   at the top or at the bottom of the file\n",
    "<li>\n",
    "The keyword **delimiter** to indicates how multi-columns of data are\n",
    "                    separate\n",
    "<li>    The keyword **dtype** indicating the data type.\n",
    "<li>    The keyword **filling_values** indicating how to treat missing values.\n",
    "<li>    The keyword **usecols** to indicates  which columns to read\n",
    "<li>    The keyword **names** to gives the names of each column\n",
    "           as a list of strings.\n",
    "</ul>"
   ]
  },
  {
   "cell_type": "code",
   "execution_count": 3,
   "metadata": {
    "collapsed": true
   },
   "outputs": [],
   "source": [
    "from IPython.display import HTML"
   ]
  },
  {
   "cell_type": "markdown",
   "metadata": {},
   "source": [
    "# An example\n",
    "\n",
    "The following example shows how genfromtxt() can be used to read the data from\n",
    "the **Iris Plants Database** which can be obtained from the repository \n",
    "[https://archive.ics.uci.edu/ml/machine-learning-databases/iris/iris.data](https://archive.ics.uci.edu/ml/machine-learning-databases/iris/iris.data) \n",
    "described at [https://archive.ics.uci.edu/ml/machine-learning-databases/iris/iris.names](https://archive.ics.uci.edu/ml/machine-learning-databases/iris/iris.names) \n",
    "and that we show below."
   ]
  },
  {
   "cell_type": "markdown",
   "metadata": {},
   "source": [
    "## The data \n",
    "\n",
    "Here we can see that the files contains five comma separated columns, being the first four columns of numeric (float) type and the last (fifth) column of string type (describing the class of the data. Exploring the data set is important so we can know its structure before reading it."
   ]
  },
  {
   "cell_type": "code",
   "execution_count": 4,
   "metadata": {
    "collapsed": false
   },
   "outputs": [
    {
     "data": {
      "text/html": [
       "<iframe src=https://archive.ics.uci.edu/ml/machine-learning-databases/iris/iris.data width=700 height=50></iframe>"
      ],
      "text/plain": [
       "<IPython.core.display.HTML object>"
      ]
     },
     "execution_count": 4,
     "metadata": {},
     "output_type": "execute_result"
    }
   ],
   "source": [
    "HTML('<iframe src=https://archive.ics.uci.edu/ml/machine-learning-databases/iris/iris.data width=700 height=50></iframe>')"
   ]
  },
  {
   "cell_type": "markdown",
   "metadata": {},
   "source": [
    "## The data description \n",
    "\n",
    "Reading the description of the data we can see that the numeric data represents\n",
    "the sepal length, the sepal width, the petal length, and the petal width of the\n",
    "classes of plants reported in the data set."
   ]
  },
  {
   "cell_type": "code",
   "execution_count": 5,
   "metadata": {
    "collapsed": false
   },
   "outputs": [
    {
     "data": {
      "text/html": [
       "<iframe src=https://archive.ics.uci.edu/ml/machine-learning-databases/iris/iris.names width=700 height=150></iframe>"
      ],
      "text/plain": [
       "<IPython.core.display.HTML object>"
      ]
     },
     "execution_count": 5,
     "metadata": {},
     "output_type": "execute_result"
    }
   ],
   "source": [
    "HTML('<iframe src=https://archive.ics.uci.edu/ml/machine-learning-databases/iris/iris.names width=700 height=150></iframe>')"
   ]
  },
  {
   "cell_type": "markdown",
   "metadata": {},
   "source": [
    "Using this information we can build the following function to read this data into a Python session. In this example we are assuming that the data set has been downloaded and stored as **iris.data** in a directory named **Data_set** under the current one. The function reads as follows:"
   ]
  },
  {
   "cell_type": "code",
   "execution_count": 6,
   "metadata": {
    "collapsed": true
   },
   "outputs": [],
   "source": [
    "def read_iris(datafile):\n",
    "    if sys.version[0]==\"2\":\n",
    "        lines=np.genfromtxt(datafile, delimiter=\",\", \n",
    "                               dtype=[('sepal_length',float), ('sepal_width',float),\n",
    "                                      ('petal_length',float), ('petal_width',float),\n",
    "                                      ('class','|S30')])\n",
    "    elif sys.version[0]==\"3\":\n",
    "          lines=np.genfromtxt(datafile, delimiter=\",\", \n",
    "                               dtype=[('sepal_length',float), ('sepal_width',float),\n",
    "                                      ('petal_length',float), ('petal_width',float),\n",
    "                                      ('class','U30')])\n",
    "    return lines"
   ]
  },
  {
   "cell_type": "code",
   "execution_count": 7,
   "metadata": {
    "collapsed": false
   },
   "outputs": [],
   "source": [
    "import numpy as np\n",
    "import sys\n",
    "\n",
    "datafile = './Data_set/iris.data'\n",
    "\n",
    "thefilecontent = read_iris(datafile)"
   ]
  },
  {
   "cell_type": "code",
   "execution_count": 8,
   "metadata": {
    "collapsed": false
   },
   "outputs": [
    {
     "name": "stdout",
     "output_type": "stream",
     "text": [
      "[ 5.1  4.9  4.7  4.6  5.   5.4  4.6  5.   4.4  4.9]\n"
     ]
    }
   ],
   "source": [
    "print(thefilecontent['sepal_length'][0:10])"
   ]
  },
  {
   "cell_type": "code",
   "execution_count": 9,
   "metadata": {
    "collapsed": false
   },
   "outputs": [
    {
     "name": "stdout",
     "output_type": "stream",
     "text": [
      "[ 1.4  1.4  1.3  1.5  1.4  1.7  1.4  1.5  1.4  1.5]\n"
     ]
    }
   ],
   "source": [
    "print(thefilecontent['petal_length'][0:10])"
   ]
  },
  {
   "cell_type": "code",
   "execution_count": 10,
   "metadata": {
    "collapsed": false,
    "scrolled": true
   },
   "outputs": [
    {
     "name": "stdout",
     "output_type": "stream",
     "text": [
      "['Iris-setosa' 'Iris-setosa' 'Iris-setosa' 'Iris-setosa' 'Iris-setosa'\n",
      " 'Iris-setosa' 'Iris-setosa' 'Iris-setosa' 'Iris-setosa' 'Iris-setosa']\n"
     ]
    }
   ],
   "source": [
    "print(thefilecontent['class'][0:10])"
   ]
  },
  {
   "cell_type": "markdown",
   "metadata": {},
   "source": [
    "# Writing data to a file using savetxt()\n",
    "\n",
    "From the main documentation of [savetxt()](http://docs.scipy.org/doc/numpy/reference/generated/numpy.savetxt.html) [http://docs.scipy.org/doc/numpy/reference/generated/numpy.savetxt.html] a basic usage of such function to write data to a file could contain:\n",
    "\n",
    "<ul>\n",
    "<li> \n",
    "    The **filename** a mandatory argument which contains the full path of the\n",
    "                   file to which data is going to be written.\n",
    "<li> The **data** a mandatory array-like argument which contains the data to \n",
    "                    be written to file.\n",
    "<li> The keyword **fmt** to indicate the format the data is going to be written to file.\n",
    "<li>    The keyword **delimiter** indicating the separation character between columns of data.\n",
    "<li>    The keyword **newline** indicating the new line character.\n",
    "<li>    The keyword **header** to add a brief description of the data.\n",
    "</ul>\n",
    "\n",
    "Before writing data, it is necessary to organize it in an array-like variable in the way we want the data to appear in the file. \n",
    "\n",
    "In our example, let's consider we would like to save column-wise in a file the first 10 lines of the variables 'sepal_length', 'petal_length' and 'class'.\n",
    "\n",
    "The data is organized in the following way:"
   ]
  },
  {
   "cell_type": "code",
   "execution_count": 11,
   "metadata": {
    "collapsed": false
   },
   "outputs": [
    {
     "name": "stdout",
     "output_type": "stream",
     "text": [
      "[['5.1' '1.4' 'Iris-setosa']\n",
      " ['4.9' '1.4' 'Iris-setosa']\n",
      " ['4.7' '1.3' 'Iris-setosa']\n",
      " ['4.6' '1.5' 'Iris-setosa']\n",
      " ['5.0' '1.4' 'Iris-setosa']\n",
      " ['5.4' '1.7' 'Iris-setosa']\n",
      " ['4.6' '1.4' 'Iris-setosa']\n",
      " ['5.0' '1.5' 'Iris-setosa']\n",
      " ['4.4' '1.4' 'Iris-setosa']]\n"
     ]
    }
   ],
   "source": [
    "datatosave = np.transpose(np.array([thefilecontent['sepal_length'][0:9],\n",
    "              thefilecontent['petal_length'][0:9],\n",
    "              thefilecontent['class'][0:9]]))\n",
    "print(datatosave)"
   ]
  },
  {
   "cell_type": "code",
   "execution_count": 12,
   "metadata": {
    "collapsed": true
   },
   "outputs": [],
   "source": [
    "datafile = './Data_set/new_iris.data'\n",
    "\n",
    "theformat = '%9s %14s %20s'\n",
    "\n",
    "np.savetxt( datafile,  datatosave,    delimiter='   ',\n",
    "    newline='\\n',   fmt=theformat, \n",
    "    header=' sepal_length   petal_length     class')"
   ]
  },
  {
   "cell_type": "markdown",
   "metadata": {},
   "source": [
    "After executing the instructions the file 'new_iris.data' will be create (or, if it already exist, overwritten) in the 'Data_set' directory of the current Jupyter notebook.\n",
    "\n",
    "The content of the file is displayed using:"
   ]
  },
  {
   "cell_type": "code",
   "execution_count": 13,
   "metadata": {
    "collapsed": false
   },
   "outputs": [
    {
     "name": "stdout",
     "output_type": "stream",
     "text": [
      "#  sepal_length   petal_length     class\r\n",
      "      5.1            1.4          Iris-setosa\r\n",
      "      4.9            1.4          Iris-setosa\r\n",
      "      4.7            1.3          Iris-setosa\r\n",
      "      4.6            1.5          Iris-setosa\r\n",
      "      5.0            1.4          Iris-setosa\r\n",
      "      5.4            1.7          Iris-setosa\r\n",
      "      4.6            1.4          Iris-setosa\r\n",
      "      5.0            1.5          Iris-setosa\r\n",
      "      4.4            1.4          Iris-setosa\r\n"
     ]
    }
   ],
   "source": [
    "!more ./Data_set/new_iris.data"
   ]
  },
  {
   "cell_type": "markdown",
   "metadata": {},
   "source": [
    "### Additional readings"
   ]
  },
  {
   "cell_type": "code",
   "execution_count": 14,
   "metadata": {
    "collapsed": true
   },
   "outputs": [],
   "source": [
    "from IPython.display import HTML"
   ]
  },
  {
   "cell_type": "code",
   "execution_count": 15,
   "metadata": {
    "collapsed": false
   },
   "outputs": [
    {
     "data": {
      "text/html": [
       "<iframe src=http://docs.scipy.org/doc/numpy/reference/generated/numpy.genfromtxt.html width=700 height=250></iframe>"
      ],
      "text/plain": [
       "<IPython.core.display.HTML object>"
      ]
     },
     "execution_count": 15,
     "metadata": {},
     "output_type": "execute_result"
    }
   ],
   "source": [
    "HTML('<iframe src=http://docs.scipy.org/doc/numpy/reference/generated/numpy.genfromtxt.html width=700 height=250></iframe>')"
   ]
  },
  {
   "cell_type": "code",
   "execution_count": 16,
   "metadata": {
    "collapsed": false
   },
   "outputs": [
    {
     "data": {
      "text/html": [
       "<iframe src=http://docs.scipy.org/doc/numpy/reference/generated/numpy.savetxt.html width=700 height=250></iframe>"
      ],
      "text/plain": [
       "<IPython.core.display.HTML object>"
      ]
     },
     "execution_count": 16,
     "metadata": {},
     "output_type": "execute_result"
    }
   ],
   "source": [
    "HTML('<iframe src=http://docs.scipy.org/doc/numpy/reference/generated/numpy.savetxt.html width=700 height=250></iframe>')"
   ]
  },
  {
   "cell_type": "code",
   "execution_count": 17,
   "metadata": {
    "collapsed": false
   },
   "outputs": [
    {
     "data": {
      "text/html": [
       "<iframe src=http://docs.scipy.org/doc/numpy/reference/routines.io.html width=700 height=250></iframe>"
      ],
      "text/plain": [
       "<IPython.core.display.HTML object>"
      ]
     },
     "execution_count": 17,
     "metadata": {},
     "output_type": "execute_result"
    }
   ],
   "source": [
    "HTML('<iframe src=http://docs.scipy.org/doc/numpy/reference/routines.io.html width=700 height=250></iframe>')"
   ]
  },
  {
   "cell_type": "markdown",
   "metadata": {},
   "source": [
    ">#### Content under [Creative Commons Attribution license CC-BY 4.0](http://creativecommons.org/licenses/by/4.0/), [code under MIT license (c)](http://en.wikipedia.org/wiki/MIT_License)2016-2017 Sergio Rojas (srojas@usb.ve). ###\n"
   ]
  },
  {
   "cell_type": "code",
   "execution_count": null,
   "metadata": {
    "collapsed": true
   },
   "outputs": [],
   "source": []
  },
  {
   "cell_type": "code",
   "execution_count": null,
   "metadata": {
    "collapsed": true
   },
   "outputs": [],
   "source": []
  }
 ],
 "metadata": {
  "anaconda-cloud": {},
  "kernelspec": {
   "display_name": "Python [Root]",
   "language": "python",
   "name": "Python [Root]"
  },
  "language_info": {
   "codemirror_mode": {
    "name": "ipython",
    "version": 3
   },
   "file_extension": ".py",
   "mimetype": "text/x-python",
   "name": "python",
   "nbconvert_exporter": "python",
   "pygments_lexer": "ipython3",
   "version": "3.5.1"
  }
 },
 "nbformat": 4,
 "nbformat_minor": 0
}
