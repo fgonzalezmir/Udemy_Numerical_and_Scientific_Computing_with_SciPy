{
 "cells": [
  {
   "cell_type": "code",
   "execution_count": 1,
   "metadata": {
    "collapsed": false
   },
   "outputs": [
    {
     "data": {
      "text/html": [
       "<style>\n",
       "\n",
       "div#notebook, div.CodeMirror, div.output_area pre, div.output_wrapper, div.promp\n",
       "t {\n",
       "  font-family: 'Inconsolata', monospace !important;\n",
       "  font-size: 16px;\n",
       "}\n",
       "\n",
       "</style>\n",
       "<script>\n",
       "    MathJax.Hub.Config({\n",
       "                        TeX: {\n",
       "                           extensions: [\"AMSmath.js\"],\n",
       "                           equationNumbers: { autoNumber: \"AMS\", useLabelIds: true}\n",
       "                           },\n",
       "                tex2jax: {\n",
       "                    inlineMath: [ ['$','$'], [\"\\\\(\",\"\\\\)\"] ],\n",
       "                    displayMath: [ ['$$','$$'], [\"\\\\[\",\"\\\\]\"] ]\n",
       "                },\n",
       "                displayAlign: 'center', // Change this to 'center' to center equations.\n",
       "                \"HTML-CSS\": {\n",
       "                    styles: {'.MathJax_Display': {\"margin\": 4}}\n",
       "                }\n",
       "        });\n",
       "</script>\n"
      ],
      "text/plain": [
       "<IPython.core.display.HTML object>"
      ]
     },
     "execution_count": 1,
     "metadata": {},
     "output_type": "execute_result"
    }
   ],
   "source": [
    "from IPython.core.display import HTML\n",
    "css_file = '../../../style/style03my.css'\n",
    "HTML(open(css_file, \"r\").read())"
   ]
  },
  {
   "cell_type": "markdown",
   "metadata": {},
   "source": [
    "> Content under [Creative Commons Attribution license CC-BY 4.0](http://creativecommons.org/licenses/by/4.0/), [code under MIT license (c)](http://en.wikipedia.org/wiki/MIT_License) 2016-2017 Sergio Rojas (srojas@usb.ve). "
   ]
  },
  {
   "cell_type": "markdown",
   "metadata": {},
   "source": [
    "<b> <center> \n",
    "# NumPy and its functionality\n",
    "<font color='red'>\n",
    "# Avoiding for loops\n",
    "</font>\n",
    "</center></b>\n",
    "\n",
    "Performing repetitive tasks is at the heart of computer programs. An example of a repetitive task could be the execution of the operations for computing the [United Nations Human Development Index and its components](http://hdr.undp.org/en/composite/HDI) [http://hdr.undp.org/en/composite/HDI] for each country.\n",
    "\n",
    "Such repetitive tasks are executed using loops. Two common ones in any modern computer language are ** *for loops* ** and ** *while loops* **.\n",
    "\n",
    "The problem with user implementation of these loops using standard language instructions is that the computational task could be slow depending on the number of times the loop is repeated.\n",
    "\n",
    "In this sense, NumPy provides ways to avoid computing using Python loops in many operations. In here we are going to see some of such ways that are useful for efficient computing with large data sets.\n"
   ]
  },
  {
   "cell_type": "code",
   "execution_count": 2,
   "metadata": {
    "collapsed": false
   },
   "outputs": [],
   "source": [
    "import numpy as np"
   ]
  },
  {
   "cell_type": "code",
   "execution_count": 3,
   "metadata": {
    "collapsed": false
   },
   "outputs": [],
   "source": [
    "x=np.array([0.0, 1.5, 3.0, 4.5, 6.0, ]);\n",
    "y=np.array([0.0, 0.86, 1.71, 2.57, 3.43, 4.29, 5.14, 6.0]);"
   ]
  },
  {
   "cell_type": "code",
   "execution_count": 4,
   "metadata": {
    "collapsed": false
   },
   "outputs": [
    {
     "name": "stdout",
     "output_type": "stream",
     "text": [
      "[[  0.      0.      0.      0.      0.      0.      0.      0.   ]\n",
      " [  0.      1.29    2.565   3.855   5.145   6.435   7.71    9.   ]\n",
      " [  0.      2.58    5.13    7.71   10.29   12.87   15.42   18.   ]\n",
      " [  0.      3.87    7.695  11.565  15.435  19.305  23.13   27.   ]\n",
      " [  0.      5.16   10.26   15.42   20.58   25.74   30.84   36.   ]]\n"
     ]
    }
   ],
   "source": [
    "def xy_for(x,y):\n",
    "    nrows = len(x); ncols = len(y)\n",
    "    temp=np.empty((nrows,ncols))\n",
    "    for i in range(nrows):\n",
    "        for j in range(ncols):\n",
    "            temp[i,j]=x[i]*y[j]\n",
    "    return temp\n",
    "print(xy_for(x,y))"
   ]
  },
  {
   "cell_type": "code",
   "execution_count": 5,
   "metadata": {
    "collapsed": false
   },
   "outputs": [
    {
     "name": "stdout",
     "output_type": "stream",
     "text": [
      "[[  0.      0.      0.      0.      0.      0.      0.      0.   ]\n",
      " [  0.      1.29    2.565   3.855   5.145   6.435   7.71    9.   ]\n",
      " [  0.      2.58    5.13    7.71   10.29   12.87   15.42   18.   ]\n",
      " [  0.      3.87    7.695  11.565  15.435  19.305  23.13   27.   ]\n",
      " [  0.      5.16   10.26   15.42   20.58   25.74   30.84   36.   ]]\n"
     ]
    }
   ],
   "source": [
    "def xy_mat(x,y):\n",
    "    X, Y  = np.meshgrid(y,x);\n",
    "    return X*Y\n",
    "print(xy_mat(x,y))"
   ]
  },
  {
   "cell_type": "markdown",
   "metadata": {},
   "source": [
    "## Timing execution using *timeit*\n",
    "[https://docs.python.org/3/library/timeit.html](https://docs.python.org/3/library/timeit.html)"
   ]
  },
  {
   "cell_type": "code",
   "execution_count": 6,
   "metadata": {
    "collapsed": false
   },
   "outputs": [
    {
     "name": "stdout",
     "output_type": "stream",
     "text": [
      "The slowest run took 7.96 times longer than the fastest. This could mean that an intermediate result is being cached.\n",
      "100000 loops, best of 3: 12.1 µs per loop\n"
     ]
    }
   ],
   "source": [
    "%timeit xy_mat(x,y)"
   ]
  },
  {
   "cell_type": "code",
   "execution_count": 7,
   "metadata": {
    "collapsed": false
   },
   "outputs": [
    {
     "name": "stdout",
     "output_type": "stream",
     "text": [
      "100000 loops, best of 3: 14.9 µs per loop\n"
     ]
    }
   ],
   "source": [
    "%timeit xy_for(x,y)"
   ]
  },
  {
   "cell_type": "code",
   "execution_count": 8,
   "metadata": {
    "collapsed": false
   },
   "outputs": [
    {
     "name": "stdout",
     "output_type": "stream",
     "text": [
      "xlen = 15; ylen = 24\n"
     ]
    }
   ],
   "source": [
    "xx=np.append(x,x); yy=np.append(y,y);\n",
    "xx=np.append(xx,x); yy=np.append(yy,y)\n",
    "print('xlen = {0}; ylen = {1}'.format(len(xx),len(yy)))"
   ]
  },
  {
   "cell_type": "code",
   "execution_count": 9,
   "metadata": {
    "collapsed": false
   },
   "outputs": [
    {
     "name": "stdout",
     "output_type": "stream",
     "text": [
      "The slowest run took 4.43 times longer than the fastest. This could mean that an intermediate result is being cached.\n",
      "100000 loops, best of 3: 14.4 µs per loop\n"
     ]
    }
   ],
   "source": [
    "%timeit xy_mat(xx,yy)"
   ]
  },
  {
   "cell_type": "code",
   "execution_count": 10,
   "metadata": {
    "collapsed": false
   },
   "outputs": [
    {
     "name": "stdout",
     "output_type": "stream",
     "text": [
      "10000 loops, best of 3: 116 µs per loop\n"
     ]
    }
   ],
   "source": [
    "%timeit xy_for(xx,yy)"
   ]
  },
  {
   "cell_type": "markdown",
   "metadata": {},
   "source": [
    "## Avoid loops via matrix operations"
   ]
  },
  {
   "cell_type": "code",
   "execution_count": 11,
   "metadata": {
    "collapsed": false
   },
   "outputs": [
    {
     "name": "stdout",
     "output_type": "stream",
     "text": [
      "[[  0.      0.      0.      0.      0.      0.      0.      0.   ]\n",
      " [  0.      1.29    2.565   3.855   5.145   6.435   7.71    9.   ]\n",
      " [  0.      2.58    5.13    7.71   10.29   12.87   15.42   18.   ]\n",
      " [  0.      3.87    7.695  11.565  15.435  19.305  23.13   27.   ]\n",
      " [  0.      5.16   10.26   15.42   20.58   25.74   30.84   36.   ]]\n"
     ]
    }
   ],
   "source": [
    "temp=xy_mat(x,y)\n",
    "print(temp)"
   ]
  },
  {
   "cell_type": "code",
   "execution_count": 12,
   "metadata": {
    "collapsed": false
   },
   "outputs": [
    {
     "name": "stdout",
     "output_type": "stream",
     "text": [
      "[[  0.      0.      0.      0.      0.   ]\n",
      " [  0.      1.29    2.58    3.87    5.16 ]\n",
      " [  0.      2.565   5.13    7.695  10.26 ]\n",
      " [  0.      3.855   7.71   11.565  15.42 ]\n",
      " [  0.      5.145  10.29   15.435  20.58 ]\n",
      " [  0.      6.435  12.87   19.305  25.74 ]\n",
      " [  0.      7.71   15.42   23.13   30.84 ]\n",
      " [  0.      9.     18.     27.     36.   ]]\n"
     ]
    }
   ],
   "source": [
    "Z=temp.T\n",
    "print(Z)"
   ]
  },
  {
   "cell_type": "code",
   "execution_count": 13,
   "metadata": {
    "collapsed": false
   },
   "outputs": [
    {
     "data": {
      "text/plain": [
       "array([ 0.,  0.,  0.,  0.,  0.])"
      ]
     },
     "execution_count": 13,
     "metadata": {},
     "output_type": "execute_result"
    }
   ],
   "source": [
    "Z[0]"
   ]
  },
  {
   "cell_type": "code",
   "execution_count": 14,
   "metadata": {
    "collapsed": false
   },
   "outputs": [
    {
     "data": {
      "text/plain": [
       "array([ 0.,  0.,  0.,  0.,  0.,  0.,  0.,  0.])"
      ]
     },
     "execution_count": 14,
     "metadata": {},
     "output_type": "execute_result"
    }
   ],
   "source": [
    "Z[:,0]"
   ]
  },
  {
   "cell_type": "code",
   "execution_count": 15,
   "metadata": {
    "collapsed": false
   },
   "outputs": [
    {
     "data": {
      "text/plain": [
       "array([[ 0.   ,  0.   ],\n",
       "       [ 1.29 ,  2.58 ],\n",
       "       [ 2.565,  5.13 ]])"
      ]
     },
     "execution_count": 15,
     "metadata": {},
     "output_type": "execute_result"
    }
   ],
   "source": [
    "Z[0:3,\n",
    "  1:3]"
   ]
  },
  {
   "cell_type": "code",
   "execution_count": 16,
   "metadata": {
    "collapsed": false
   },
   "outputs": [
    {
     "name": "stdout",
     "output_type": "stream",
     "text": [
      "[[  0.      0.      0.      0.      0.   ]\n",
      " [  5.16    3.87    2.58    1.29    0.   ]\n",
      " [ 10.26    7.695   5.13    2.565   0.   ]\n",
      " [ 15.42   11.565   7.71    3.855   0.   ]\n",
      " [ 20.58   15.435  10.29    5.145   0.   ]\n",
      " [ 25.74   19.305  12.87    6.435   0.   ]\n",
      " [ 30.84   23.13   15.42    7.71    0.   ]\n",
      " [ 36.     27.     18.      9.      0.   ]]\n"
     ]
    }
   ],
   "source": [
    "Zlr=np.fliplr(Z)\n",
    "print(Zlr)"
   ]
  },
  {
   "cell_type": "code",
   "execution_count": 17,
   "metadata": {
    "collapsed": false
   },
   "outputs": [
    {
     "name": "stdout",
     "output_type": "stream",
     "text": [
      "[[  0.      9.     18.     27.     36.   ]\n",
      " [  0.      7.71   15.42   23.13   30.84 ]\n",
      " [  0.      6.435  12.87   19.305  25.74 ]\n",
      " [  0.      5.145  10.29   15.435  20.58 ]\n",
      " [  0.      3.855   7.71   11.565  15.42 ]\n",
      " [  0.      2.565   5.13    7.695  10.26 ]\n",
      " [  0.      1.29    2.58    3.87    5.16 ]\n",
      " [  0.      0.      0.      0.      0.   ]]\n"
     ]
    }
   ],
   "source": [
    "Zud=np.flipud(Z)\n",
    "print(Zud)"
   ]
  },
  {
   "cell_type": "code",
   "execution_count": 18,
   "metadata": {
    "collapsed": false
   },
   "outputs": [
    {
     "name": "stdout",
     "output_type": "stream",
     "text": [
      "[[    0.         0.         0.         0.         0.    ]\n",
      " [    0.       231.4287   462.8574   694.2861   925.7148]\n",
      " [    0.       462.8574   925.7148  1388.5722  1851.4296]\n",
      " [    0.       694.2861  1388.5722  2082.8583  2777.1444]\n",
      " [    0.       925.7148  1851.4296  2777.1444  3702.8592]]\n"
     ]
    }
   ],
   "source": [
    "XY = np.dot(Z.T,Z) # matrix multiplication\n",
    "print(XY)"
   ]
  },
  {
   "cell_type": "code",
   "execution_count": 19,
   "metadata": {
    "collapsed": false
   },
   "outputs": [
    {
     "name": "stdout",
     "output_type": "stream",
     "text": [
      "[[    0.         0.         0.         0.         0.    ]\n",
      " [    0.         7.9464    29.2056    63.7776   111.6624]\n",
      " [    0.        28.8819   110.3976   244.5471   431.3304]\n",
      " [    0.        63.2991   245.4864   546.5619   966.5256]\n",
      " [    0.       111.0291   433.8264   968.3919  1714.7256]\n",
      " [    0.       172.0719   675.4176  1510.0371  2675.9304]\n",
      " [    0.       245.4864   966.5256  2163.1176  3835.2624]\n",
      " [    0.       333.      1314.      2943.      5220.    ]]\n"
     ]
    }
   ],
   "source": [
    "Z = 4*Z**2  + Z # element wise operations\n",
    "print(Z)"
   ]
  },
  {
   "cell_type": "code",
   "execution_count": 20,
   "metadata": {
    "collapsed": false,
    "scrolled": false
   },
   "outputs": [
    {
     "data": {
      "text/plain": [
       "28131.444"
      ]
     },
     "execution_count": 20,
     "metadata": {},
     "output_type": "execute_result"
    }
   ],
   "source": [
    "np.sum(Z)"
   ]
  },
  {
   "cell_type": "code",
   "execution_count": 21,
   "metadata": {
    "collapsed": false
   },
   "outputs": [
    {
     "name": "stdout",
     "output_type": "stream",
     "text": [
      "[     0.        961.7148   3774.8592   8439.4332  14955.4368]\n"
     ]
    }
   ],
   "source": [
    "columnsum = np.sum(Z, axis = 0) #column wise sum\n",
    "print(columnsum)"
   ]
  },
  {
   "cell_type": "code",
   "execution_count": 22,
   "metadata": {
    "collapsed": false
   },
   "outputs": [
    {
     "name": "stdout",
     "output_type": "stream",
     "text": [
      "[    0.      212.592   815.157  1821.873  3227.973  5033.457  7210.392\n",
      "  9810.   ]\n"
     ]
    }
   ],
   "source": [
    "rowsum = np.sum(Z, axis = 1) #row wise sum\n",
    "print(rowsum)"
   ]
  },
  {
   "cell_type": "code",
   "execution_count": 23,
   "metadata": {
    "collapsed": false
   },
   "outputs": [
    {
     "name": "stdout",
     "output_type": "stream",
     "text": [
      "28131.444\n",
      "28131.444\n"
     ]
    }
   ],
   "source": [
    "print(np.sum(columnsum))\n",
    "print(np.sum(rowsum))"
   ]
  },
  {
   "cell_type": "code",
   "execution_count": 24,
   "metadata": {
    "collapsed": false
   },
   "outputs": [
    {
     "name": "stdout",
     "output_type": "stream",
     "text": [
      "[ 0.  0.  0.  0.  0.]\n",
      "[    0.   333.  1314.  2943.  5220.]\n"
     ]
    }
   ],
   "source": [
    "print(np.min(Z, axis = 0)); print(np.max(Z, axis = 0)); "
   ]
  },
  {
   "cell_type": "code",
   "execution_count": 25,
   "metadata": {
    "collapsed": false
   },
   "outputs": [
    {
     "name": "stdout",
     "output_type": "stream",
     "text": [
      "[     0.        961.7148   3774.8592   8439.4332  14955.4368]\n",
      "[    0.        120.21435   471.8574   1054.92915  1869.4296 ]\n"
     ]
    }
   ],
   "source": [
    "print(np.sum(Z, axis = 0)); print(np.mean(Z, axis = 0)); "
   ]
  },
  {
   "cell_type": "code",
   "execution_count": 26,
   "metadata": {
    "collapsed": false
   },
   "outputs": [
    {
     "name": "stdout",
     "output_type": "stream",
     "text": [
      "[       0.            12797.61728942   199658.86718076  1002239.79394322\n",
      "  3154134.37149216]\n",
      "[    0.           113.12655431   446.83203464  1001.11927059  1775.98828022]\n"
     ]
    }
   ],
   "source": [
    "print(np.var(Z, axis = 0)); print(np.std(Z, axis = 0))"
   ]
  },
  {
   "cell_type": "markdown",
   "metadata": {},
   "source": [
    "## Doing operations with Nan and Inf values"
   ]
  },
  {
   "cell_type": "code",
   "execution_count": 27,
   "metadata": {
    "collapsed": false
   },
   "outputs": [
    {
     "name": "stdout",
     "output_type": "stream",
     "text": [
      "[    0.      212.592   815.157  1821.873  3227.973  5033.457  7210.392\n",
      "  9810.   ]\n"
     ]
    }
   ],
   "source": [
    "rowsum = np.sum(Z, axis = 1) #row wise sum\n",
    "print(rowsum)"
   ]
  },
  {
   "cell_type": "code",
   "execution_count": 28,
   "metadata": {
    "collapsed": false
   },
   "outputs": [
    {
     "name": "stdout",
     "output_type": "stream",
     "text": [
      "244.5471\n",
      "968.3919\n"
     ]
    }
   ],
   "source": [
    "tempvals = [Z[2,3], Z[4,3]]\n",
    "print(Z[2,3]); print(Z[4,3])"
   ]
  },
  {
   "cell_type": "code",
   "execution_count": 29,
   "metadata": {
    "collapsed": false
   },
   "outputs": [
    {
     "name": "stdout",
     "output_type": "stream",
     "text": [
      "nan\n",
      "inf\n"
     ]
    }
   ],
   "source": [
    "Z[2,3] = np.nan ; Z[4,4] = np.inf\n",
    "print(Z[2,3]); print(Z[4,4])"
   ]
  },
  {
   "cell_type": "code",
   "execution_count": 30,
   "metadata": {
    "collapsed": false
   },
   "outputs": [
    {
     "name": "stdout",
     "output_type": "stream",
     "text": [
      "[  0.   0.   0.  nan   0.]\n",
      "[    0.   333.  1314.    nan    inf]\n"
     ]
    }
   ],
   "source": [
    "print(np.min(Z, axis = 0)); print(np.max(Z, axis = 0)); "
   ]
  },
  {
   "cell_type": "code",
   "execution_count": 31,
   "metadata": {
    "collapsed": false
   },
   "outputs": [
    {
     "name": "stdout",
     "output_type": "stream",
     "text": [
      "[    0.       961.7148  3774.8592        nan        inf]\n",
      "[   0.       120.21435  471.8574         nan        inf]\n"
     ]
    }
   ],
   "source": [
    "print(np.sum(Z, axis = 0)); print(np.mean(Z, axis = 0)); "
   ]
  },
  {
   "cell_type": "code",
   "execution_count": 32,
   "metadata": {
    "collapsed": false
   },
   "outputs": [
    {
     "name": "stdout",
     "output_type": "stream",
     "text": [
      "[[0.0 0.0 0.0 0.0 0.0]\n",
      " [0.0 7.946400000000001 29.205600000000004 63.7776 111.6624]\n",
      " [0.0 28.8819 110.3976 -- 431.3304]\n",
      " [0.0 63.29909999999998 245.48639999999995 546.5619 966.5255999999997]\n",
      " [0.0 111.02910000000001 433.8264000000001 968.3919 --]\n",
      " [0.0 172.07190000000003 675.4176000000001 1510.0371 2675.9304]\n",
      " [0.0 245.48639999999995 966.5255999999997 2163.1176 3835.262399999999]\n",
      " [0.0 333.0 1314.0 2943.0 5220.0]]\n"
     ]
    }
   ],
   "source": [
    "Z = np.ma.masked_array(Z, np.isnan(Z));\n",
    "Z = np.ma.masked_array(Z, np.isinf(Z));\n",
    "print(Z)"
   ]
  },
  {
   "cell_type": "code",
   "execution_count": 33,
   "metadata": {
    "collapsed": false
   },
   "outputs": [
    {
     "name": "stdout",
     "output_type": "stream",
     "text": [
      "[0.0 0.0 0.0 0.0 0.0]\n",
      "[0.0 333.0 1314.0 2943.0 5220.0]\n"
     ]
    }
   ],
   "source": [
    "print(np.min(Z, axis = 0)); print(np.max(Z, axis = 0)); "
   ]
  },
  {
   "cell_type": "code",
   "execution_count": 34,
   "metadata": {
    "collapsed": false
   },
   "outputs": [
    {
     "name": "stdout",
     "output_type": "stream",
     "text": [
      "[0.0 961.7148000000001 3774.8592 8194.8861 13240.7112]\n",
      "[0.0 120.21435000000001 471.8574 1170.6980142857142 1891.5301714285713]\n"
     ]
    }
   ],
   "source": [
    "print(np.sum(Z, axis = 0)); print(np.mean(Z, axis = 0)); "
   ]
  },
  {
   "cell_type": "code",
   "execution_count": 35,
   "metadata": {
    "collapsed": false
   },
   "outputs": [
    {
     "name": "stdout",
     "output_type": "stream",
     "text": [
      "[       0.            12797.61728942   199658.86718076  1038197.46785965\n",
      "  3600817.51393128]\n",
      "[0.0 113.1265543072116 446.8320346402661 1018.9197553584138\n",
      " 1897.582017708664]\n"
     ]
    }
   ],
   "source": [
    "print(np.var(Z, axis = 0)); print(np.std(Z, axis = 0))"
   ]
  },
  {
   "cell_type": "markdown",
   "metadata": {},
   "source": [
    "To work with NaN values, an alternative to the presented method is that some functions can be preceded by \"nan\" like: ** *nanmedian, nanmean, nanstd,* ** and ** *nanvar* ** (other functions are listed in http://docs.scipy.org/doc/numpy-dev/reference/routines.statistics.html)"
   ]
  },
  {
   "cell_type": "markdown",
   "metadata": {},
   "source": [
    "## Replacing Nan and Inf values"
   ]
  },
  {
   "cell_type": "code",
   "execution_count": 36,
   "metadata": {
    "collapsed": false
   },
   "outputs": [
    {
     "name": "stdout",
     "output_type": "stream",
     "text": [
      "nan\n",
      "inf\n"
     ]
    }
   ],
   "source": [
    "Z[2,3] = np.nan ; Z[4,4] = np.inf\n",
    "print(Z[2,3]); print(Z[4,4])"
   ]
  },
  {
   "cell_type": "code",
   "execution_count": 37,
   "metadata": {
    "collapsed": false
   },
   "outputs": [
    {
     "name": "stdout",
     "output_type": "stream",
     "text": [
      "(array([2]), array([3]))\n",
      "(array([4]), array([4]))\n"
     ]
    }
   ],
   "source": [
    "print(np.where(np.isnan(Z))); print(np.where(np.isinf(Z)))"
   ]
  },
  {
   "cell_type": "code",
   "execution_count": 38,
   "metadata": {
    "collapsed": false
   },
   "outputs": [
    {
     "name": "stdout",
     "output_type": "stream",
     "text": [
      "[[0.0 0.0 0.0 0.0 0.0]\n",
      " [0.0 7.946400000000001 29.205600000000004 63.7776 111.6624]\n",
      " [0.0 28.8819 110.3976 244.5471 431.3304]\n",
      " [0.0 63.29909999999998 245.48639999999995 546.5619 966.5255999999997]\n",
      " [0.0 111.02910000000001 433.8264000000001 968.3919 968.3919]\n",
      " [0.0 172.07190000000003 675.4176000000001 1510.0371 2675.9304]\n",
      " [0.0 245.48639999999995 966.5255999999997 2163.1176 3835.262399999999]\n",
      " [0.0 333.0 1314.0 2943.0 5220.0]]\n"
     ]
    }
   ],
   "source": [
    "Z[np.where(np.isnan(Z))] = tempvals[0]\n",
    "Z[np.where(np.isinf(Z))] = tempvals[1]\n",
    "print(Z)"
   ]
  },
  {
   "cell_type": "code",
   "execution_count": 39,
   "metadata": {
    "collapsed": true
   },
   "outputs": [],
   "source": [
    "#from IPython.display import HTML\n",
    "from IPython.core.display import HTML, display\n",
    "from IPython.display import IFrame\n"
   ]
  },
  {
   "cell_type": "markdown",
   "metadata": {},
   "source": [
    "<b> References </b>"
   ]
  },
  {
   "cell_type": "markdown",
   "metadata": {},
   "source": [
    "* ** Array manipulation routines **<br>\n",
    "<http://docs.scipy.org/doc/numpy/reference/routines.array-manipulation.html>"
   ]
  },
  {
   "cell_type": "code",
   "execution_count": 40,
   "metadata": {
    "collapsed": false
   },
   "outputs": [
    {
     "data": {
      "text/html": [
       "<iframe src=http://docs.scipy.org/doc/numpy/reference/routines.array-manipulation.html width=700 height=350></iframe>"
      ],
      "text/plain": [
       "<IPython.core.display.HTML object>"
      ]
     },
     "execution_count": 40,
     "metadata": {},
     "output_type": "execute_result"
    }
   ],
   "source": [
    "HTML('<iframe src=http://docs.scipy.org/doc/numpy/reference/routines.array-manipulation.html width=700 height=350></iframe>')"
   ]
  },
  {
   "cell_type": "markdown",
   "metadata": {},
   "source": [
    "* **Numpy Universal functions (ufunc)**<br>\n",
    "<http://docs.scipy.org/doc/numpy/reference/ufuncs.html>"
   ]
  },
  {
   "cell_type": "code",
   "execution_count": 41,
   "metadata": {
    "collapsed": false
   },
   "outputs": [
    {
     "data": {
      "text/html": [
       "<iframe src=http://docs.scipy.org/doc/numpy/reference/ufuncs.html width=700 height=350></iframe>"
      ],
      "text/plain": [
       "<IPython.core.display.HTML object>"
      ]
     },
     "execution_count": 41,
     "metadata": {},
     "output_type": "execute_result"
    }
   ],
   "source": [
    "HTML('<iframe src=http://docs.scipy.org/doc/numpy/reference/ufuncs.html width=700 height=350></iframe>')"
   ]
  },
  {
   "cell_type": "markdown",
   "metadata": {},
   "source": [
    "* ** NumPy Reference **<br>\n",
    "<http://docs.scipy.org/doc/numpy/reference/index.html>"
   ]
  },
  {
   "cell_type": "code",
   "execution_count": 42,
   "metadata": {
    "collapsed": false
   },
   "outputs": [
    {
     "data": {
      "text/html": [
       "<iframe src=http://docs.scipy.org/doc/numpy/reference/index.html width=700 height=350></iframe>"
      ],
      "text/plain": [
       "<IPython.core.display.HTML object>"
      ]
     },
     "execution_count": 42,
     "metadata": {},
     "output_type": "execute_result"
    }
   ],
   "source": [
    "HTML('<iframe src=http://docs.scipy.org/doc/numpy/reference/index.html width=700 height=350></iframe>')"
   ]
  },
  {
   "cell_type": "markdown",
   "metadata": {},
   "source": [
    "* ** The numpy.ma module **<br>\n",
    "<http://docs.scipy.org/doc/numpy/reference/maskedarray.generic.html>"
   ]
  },
  {
   "cell_type": "code",
   "execution_count": 43,
   "metadata": {
    "collapsed": false
   },
   "outputs": [
    {
     "data": {
      "text/html": [
       "<iframe src=http://docs.scipy.org/doc/numpy/reference/maskedarray.generic.html width=700 height=350></iframe>"
      ],
      "text/plain": [
       "<IPython.core.display.HTML object>"
      ]
     },
     "execution_count": 43,
     "metadata": {},
     "output_type": "execute_result"
    }
   ],
   "source": [
    "HTML('<iframe src=http://docs.scipy.org/doc/numpy/reference/maskedarray.generic.html width=700 height=350></iframe>')"
   ]
  },
  {
   "cell_type": "markdown",
   "metadata": {},
   "source": [
    "> Content under [Creative Commons Attribution license CC-BY 4.0](http://creativecommons.org/licenses/by/4.0/), [code under MIT license (c)](http://en.wikipedia.org/wiki/MIT_License) 2016-2017 Sergio Rojas (srojas@usb.ve) "
   ]
  },
  {
   "cell_type": "code",
   "execution_count": null,
   "metadata": {
    "collapsed": true
   },
   "outputs": [],
   "source": []
  }
 ],
 "metadata": {
  "anaconda-cloud": {},
  "kernelspec": {
   "display_name": "Python [Root]",
   "language": "python",
   "name": "Python [Root]"
  },
  "language_info": {
   "codemirror_mode": {
    "name": "ipython",
    "version": 3
   },
   "file_extension": ".py",
   "mimetype": "text/x-python",
   "name": "python",
   "nbconvert_exporter": "python",
   "pygments_lexer": "ipython3",
   "version": "3.5.1"
  },
  "widgets": {
   "state": {},
   "version": "1.1.2"
  }
 },
 "nbformat": 4,
 "nbformat_minor": 0
}
