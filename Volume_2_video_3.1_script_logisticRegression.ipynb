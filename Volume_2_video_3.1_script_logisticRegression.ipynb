{
 "cells": [
  {
   "cell_type": "code",
   "execution_count": 1,
   "metadata": {
    "collapsed": false
   },
   "outputs": [
    {
     "data": {
      "application/javascript": [
       "IPython.notebook.set_autosave_interval(0)"
      ]
     },
     "metadata": {},
     "output_type": "display_data"
    },
    {
     "name": "stdout",
     "output_type": "stream",
     "text": [
      "Autosave disabled\n"
     ]
    }
   ],
   "source": [
    "%autosave 0"
   ]
  },
  {
   "cell_type": "code",
   "execution_count": 2,
   "metadata": {
    "collapsed": false
   },
   "outputs": [
    {
     "data": {
      "text/html": [
       "<style>\n",
       "\n",
       "div#notebook, div.CodeMirror, div.output_area pre, div.output_wrapper, div.promp\n",
       "t {\n",
       "  font-family: 'Inconsolata', monospace !important;\n",
       "  font-size: 14px;\n",
       "}\n",
       "\n",
       "@font-face {\n",
       "    font-family: \"Computer Modern\";\n",
       "    src: url('http://mirrors.ctan.org/fonts/cm-unicode/fonts/otf/cmunss.otf');\n",
       "}\n",
       "\n",
       "#notebook_panel { /* main background */\n",
       "    background: rgb(245,245,245);\n",
       "}\n",
       "\n",
       "div.cell { /* set cell width */\n",
       "    width: 850px;\n",
       "}\n",
       "\n",
       "div #notebook { /* centre the content */\n",
       "    background: #fff; /* white background for content */\n",
       "    width: 1000px;\n",
       "    margin: auto;\n",
       "    padding-left: 0em;\n",
       "}\n",
       "\n",
       "#notebook li { /* More space between bullet points */\n",
       "margin-top:0.8em;\n",
       "}\n",
       "\n",
       "/* draw border around running cells */\n",
       "div.cell.border-box-sizing.code_cell.running { \n",
       "    border: 1px solid #111;\n",
       "}\n",
       "\n",
       "/* Put a solid color box around each cell and its output, visually linking them*/\n",
       "div.cell.code_cell {\n",
       "    background-color: rgb(256,256,256); \n",
       "    border-radius: 0px; \n",
       "    padding: 0.5em;\n",
       "    margin-left:1em;\n",
       "    margin-top: 1em;\n",
       "}\n",
       "\n",
       "div.text_cell_render{\n",
       "    font-family: 'Alegreya Sans' sans-serif;\n",
       "    line-height: 140%;\n",
       "    font-size: 125%;\n",
       "    font-weight: 400;\n",
       "    width:700px;\n",
       "    margin-left:auto;\n",
       "    margin-right:auto;\n",
       "}\n",
       "\n",
       "\n",
       "/* Formatting for header cells */\n",
       ".text_cell_render h1 {\n",
       "    font-family: 'Nixie One', serif;\n",
       "    font-style:regular;\n",
       "    font-weight: 400;    \n",
       "    font-size: 45pt;\n",
       "    line-height: 100%;\n",
       "    color: rgb(0,51,102);\n",
       "    margin-bottom: 0.5em;\n",
       "    margin-top: 0.5em;\n",
       "    display: block;\n",
       "}\t\n",
       ".text_cell_render h2 {\n",
       "    font-family: 'Nixie One', serif;\n",
       "    font-weight: 400;\n",
       "    font-size: 30pt;\n",
       "    line-height: 100%;\n",
       "    color: rgb(0,51,102);\n",
       "    margin-bottom: 0.1em;\n",
       "    margin-top: 0.3em;\n",
       "    display: block;\n",
       "}\t\n",
       "\n",
       ".text_cell_render h3 {\n",
       "    font-family: 'Nixie One', serif;\n",
       "    margin-top:16px;\n",
       "\tfont-size: 22pt;\n",
       "    font-weight: 600;\n",
       "    margin-bottom: 3px;\n",
       "    font-style: regular;\n",
       "    color: rgb(102,102,0);\n",
       "}\n",
       "\n",
       ".text_cell_render h4 {    /*Use this for captions*/\n",
       "    font-family: 'Nixie One', serif;\n",
       "    font-size: 14pt;\n",
       "    text-align: center;\n",
       "    margin-top: 0em;\n",
       "    margin-bottom: 2em;\n",
       "    font-style: regular;\n",
       "}\n",
       "\n",
       ".text_cell_render h5 {  /*Use this for small titles*/\n",
       "    font-family: 'Nixie One', sans-serif;\n",
       "    font-weight: 400;\n",
       "    font-size: 16pt;\n",
       "    color: rgb(163,0,0);\n",
       "    font-style: italic;\n",
       "    margin-bottom: .1em;\n",
       "    margin-top: 0.8em;\n",
       "    display: block;\n",
       "}\n",
       "\n",
       ".text_cell_render h6 { /*use this for copyright note*/\n",
       "    font-family: 'PT Mono', sans-serif;\n",
       "    font-weight: 300;\n",
       "    font-size: 9pt;\n",
       "    line-height: 100%;\n",
       "    color: grey;\n",
       "    margin-bottom: 1px;\n",
       "    margin-top: 1px;\n",
       "}\n",
       "\n",
       ".CodeMirror{\n",
       "        font-family: \"PT Mono\";\n",
       "        font-size: 90%;\n",
       "}\n",
       "\n",
       "</style>\n",
       "<script>\n",
       "    MathJax.Hub.Config({\n",
       "                        TeX: {\n",
       "                           extensions: [\"AMSmath.js\"],\n",
       "                           equationNumbers: { autoNumber: \"AMS\", useLabelIds: true}\n",
       "                           },\n",
       "                tex2jax: {\n",
       "                    inlineMath: [ ['$','$'], [\"\\\\(\",\"\\\\)\"] ],\n",
       "                    displayMath: [ ['$$','$$'], [\"\\\\[\",\"\\\\]\"] ]\n",
       "                },\n",
       "                displayAlign: 'center', // Change this to 'center' to center equations.\n",
       "                \"HTML-CSS\": {\n",
       "                    styles: {'.MathJax_Display': {\"margin\": 4}}\n",
       "                }\n",
       "        });\n",
       "</script>\n"
      ],
      "text/plain": [
       "<IPython.core.display.HTML object>"
      ]
     },
     "execution_count": 2,
     "metadata": {},
     "output_type": "execute_result"
    }
   ],
   "source": [
    "from IPython.core.display import HTML\n",
    "#css_file = '../../../style/style03my.css'\n",
    "css_file = '../../../style/style01.css'\n",
    "HTML(open(css_file, \"r\").read())"
   ]
  },
  {
   "cell_type": "markdown",
   "metadata": {},
   "source": [
    ">### [Sergio Rojas](http://prof.usb.ve/srojas)<br>\n",
    "[Departamento de F&iacute;sica](http://www.fis.usb.ve/), [Universidad Sim&oacute;n Bol&iacute;var](http://www.usb.ve/), [Venezuela](http://es.wikipedia.org/wiki/Venezuela)"
   ]
  },
  {
   "cell_type": "markdown",
   "metadata": {},
   "source": [
    ">#### Content under [Creative Commons Attribution license CC-BY 4.0](http://creativecommons.org/licenses/by/4.0/), [code under MIT license (c)](http://en.wikipedia.org/wiki/MIT_License)2016-2017 Sergio Rojas (srojas@usb.ve).###"
   ]
  },
  {
   "cell_type": "code",
   "execution_count": 3,
   "metadata": {
    "collapsed": true
   },
   "outputs": [],
   "source": [
    "from IPython.display import HTML\n",
    "from IPython.display import Image"
   ]
  },
  {
   "cell_type": "code",
   "execution_count": 4,
   "metadata": {
    "collapsed": false
   },
   "outputs": [],
   "source": [
    "#Image(filename='./img/ex_regression.png', width=720, height=720)"
   ]
  },
  {
   "cell_type": "code",
   "execution_count": 5,
   "metadata": {
    "collapsed": false
   },
   "outputs": [],
   "source": [
    "#HTML('<iframe src=https://docs.scipy.org/doc/scipy/reference/optimize.html width=700 height=350></iframe>')"
   ]
  },
  {
   "cell_type": "markdown",
   "metadata": {},
   "source": [
    "### <center><font color=red>[Logistic regression classification](https://en.wikipedia.org/wiki/Logistic_regression)</font> </center>#"
   ]
  },
  {
   "cell_type": "markdown",
   "metadata": {},
   "source": [
    "\n",
    "\n",
    "\\begin{aligned}\n",
    "        {\\textbf h}_{\\theta}(x) = S({\\mathbf \\theta}^{\\mathbf T}{\\textbf X}) = \\frac{1}{1 + e^{-\\, {\\mathbf \\theta}^{\\mathbf T}{\\textbf X}}}      \n",
    "%        \n",
    "        \\end{aligned}\n",
    "        \n",
    "  \\begin{aligned}\n",
    "        S(x) = \\frac{1}{1 + e^{-x}} = \\frac{1}{2} + \\frac{1}{2}tanh(\\frac{x}{2})  \n",
    "%        \n",
    "        \\end{aligned}\n",
    "where $S(x)$ is known as the [logistic (sigmoid) function](https://en.wikipedia.org/wiki/Sigmoid_function). It is the cumulative distribution function of the logistic distribution shown below."
   ]
  },
  {
   "cell_type": "markdown",
   "metadata": {},
   "source": [
    "Assume that the outcome \n",
    "$$\n",
    "y = \\begin{cases}\n",
    "   1  & \\text{if ${\\textbf h}_{\\theta}(x) \\ge 0.5$} \\\\\n",
    "   0  & \\text{ otherwise }\n",
    "   \\end{cases}\n",
    "$$     \n",
    "Since $S(x) \\ge 0.5$ if $x \\ge 0$, the above condition means to predict $y=1$ if ${\\mathbf \\theta}^{\\mathbf T}{\\textbf X} \\ge 0$ and to predict $y=0$ if ${\\mathbf \\theta}^{\\mathbf T}{\\textbf X} \\lt 0$ (the condition ${\\mathbf \\theta}^{\\mathbf T}{\\textbf X} = 0$ gives what is called the <b>decission boundary</b>."
   ]
  },
  {
   "cell_type": "markdown",
   "metadata": {},
   "source": [
    "##### <font color=red>Findin the parameter $ \\theta $</font>"
   ]
  },
  {
   "cell_type": "markdown",
   "metadata": {},
   "source": [
    "To find the best parameters $\\theta_i$, the opimization problem is usually posed in terms of ** *minimizing* ** the (convex) cost measure:"
   ]
  },
  {
   "cell_type": "markdown",
   "metadata": {},
   "source": [
    "\\begin{aligned}\n",
    "        J(\\theta) &= \\frac{1}{m} \\sum_{i=1}^{m} j(h_{\\theta}(x^{(i)}), y^{(i)}) \\\\\n",
    "        % j(h_{\\theta}(x), y) &= \\frac{1}{2}\n",
    "        % \\left[ h_{\\theta}(x) - y \\right]^2 \\\\\n",
    "j(h_{\\theta}(x), y)  &= \\begin{cases}\n",
    "   -\\ln{\\left[ {\\textbf h}_{\\theta}(x) \\right]} & \\text{if $ y = 1$} \\\\\n",
    "   -\\ln{\\left[1 - {\\textbf h}_{\\theta}(x) \\right]} & \\text{if $ y = 0 $ }\n",
    "   \\end{cases}    \\\\      \n",
    "        J(\\theta) &= - \\frac{1}{m} \\sum_{i=1}^{m} \\left( \n",
    "        y{(i)}\\ln\\left[{h_{\\theta}(x^{(i)})}\\right] + \\left( 1 -y^{(i)}\\right)\\ln\\left[1 - {h_{\\theta}(x^{(i)})}\\right]  \\right)\n",
    "        \\end{aligned}"
   ]
  },
  {
   "cell_type": "markdown",
   "metadata": {},
   "source": [
    "\\begin{aligned}\n",
    "        \\frac{\\partial J(\\theta)}{\\!\\!\\!\\! \\partial \\theta_k} \n",
    "                  &= \\frac{1}{m}\\sum_{i=1}^m \\left[{h_{\\theta}(x^{(i)})} - y^{(i)})\\right]x^{(i)}_{k}\n",
    "        \\end{aligned}"
   ]
  },
  {
   "cell_type": "markdown",
   "metadata": {},
   "source": [
    "<font color=red>**minimizing** $J(\\theta)$ we find the $\\theta$'s. Then, given an $\\mathbf{X}$, predictions can be made using</font>:\n",
    "\\begin{aligned}\n",
    "        {\\textbf h}_{\\theta}(x) = \\frac{1}{1 + e^{-\\, {\\mathbf \\theta}^{\\mathbf T}{\\textbf X}}}      \n",
    "%        \n",
    "        \\end{aligned}\n"
   ]
  },
  {
   "cell_type": "markdown",
   "metadata": {},
   "source": [
    "### <center><font color=red>Coding the logistic regression algorithm</font></center>"
   ]
  },
  {
   "cell_type": "markdown",
   "metadata": {},
   "source": [
    "##### <font color=red>The sigmoid $S(x)$ function</font>"
   ]
  },
  {
   "cell_type": "code",
   "execution_count": 6,
   "metadata": {
    "collapsed": true
   },
   "outputs": [],
   "source": [
    "def sigmoid(z):\n",
    "    import scipy.special\n",
    "    # This function compute sigmoid functoon\n",
    "    # using SciPy expit(z) function\n",
    "    # Sergio Rojas\n",
    "    \n",
    "    s = scipy.special.expit(z)\n",
    "\n",
    "    return s"
   ]
  },
  {
   "cell_type": "markdown",
   "metadata": {},
   "source": [
    "##### <font color=red>The cost $J(\\theta)$ function and its gradient $\\nabla_\\theta J(\\theta)$</font>"
   ]
  },
  {
   "cell_type": "code",
   "execution_count": 7,
   "metadata": {
    "collapsed": true
   },
   "outputs": [],
   "source": [
    "def JandGrad(theta, X, y):\n",
    "    import numpy as np\n",
    "    #   This function computes the cost J(theta)\n",
    "    #   for logistic regression and the its gradient\n",
    "    #   respectto the parameters theta.\n",
    "    #\n",
    "    # y is a one column vector\n",
    "    # X is a matrix first column filled with ones (see first exercise set)\n",
    "    # theta is a column vector\n",
    "    # Sergio Rojas\n",
    "\n",
    "    m = len(y) # number of training examples\n",
    "    grad = np.zeros(np.size(theta))\n",
    "    #  Computing J\n",
    "    # ---------\n",
    "    u = np.dot(X,theta)  # One column vector\n",
    "    h = sigmoid(u)       # One column vector\n",
    "\n",
    "    # The sum on J(theta) is implemented using scalar product \n",
    "    # of the vectors invloved. Each one is one column vector\n",
    "    #----\n",
    "    yT = np.transpose(y)\n",
    "    thesum = - np.dot(yT, np.log(h)) - np.dot((1.0 - yT),np.log(1.0-h));\n",
    "\n",
    "    J = (1.0/m) * thesum;\n",
    "\n",
    "    #  Computing grad of J(theta)\n",
    "    # ---------\n",
    "    grad = np.dot(np.transpose(h-y), X); \n",
    "                                        \n",
    "    grad = np.transpose(grad) ;    # transpose the grad\n",
    "    grad = (1.0/m) * grad;\n",
    "\n",
    "    return J, grad"
   ]
  },
  {
   "cell_type": "markdown",
   "metadata": {},
   "source": [
    "##### <font color=red>Check that function JandGrad computes and return values</font>"
   ]
  },
  {
   "cell_type": "code",
   "execution_count": 8,
   "metadata": {
    "collapsed": false,
    "scrolled": true
   },
   "outputs": [
    {
     "name": "stdout",
     "output_type": "stream",
     "text": [
      "9.00012693441\n",
      "[ 0.66653975  4.33240879  4.99894854  2.33327279]\n"
     ]
    }
   ],
   "source": [
    "import numpy as np\n",
    "X = np.array(\n",
    "[[1,     2,     3,     4],\n",
    " [1,     5,     6,     7],\n",
    " [1,     8,     9,     0]]\n",
    ")\n",
    "\n",
    "y = np.transpose(np.array([1, 0, 0]));\n",
    "theta = np.transpose(np.array([-1, 0, 1, 2]));\n",
    "\n",
    "J, grad = JandGrad(theta, X, y)\n",
    "\n",
    "print(J)\n",
    "print(grad)\n"
   ]
  },
  {
   "cell_type": "markdown",
   "metadata": {},
   "source": [
    "###  <font color=red>An example of logistic regression</font>"
   ]
  },
  {
   "cell_type": "markdown",
   "metadata": {},
   "source": [
    "##### <font color=red>Test case [from Wikipedia](https://en.wikipedia.org/wiki/Logistic_regression)</font>"
   ]
  },
  {
   "cell_type": "code",
   "execution_count": 9,
   "metadata": {
    "collapsed": true
   },
   "outputs": [],
   "source": [
    "import numpy as np\n",
    "import matplotlib.pyplot as plt\n",
    "import scipy.optimize as sciopt\n",
    "%matplotlib inline"
   ]
  },
  {
   "cell_type": "code",
   "execution_count": 10,
   "metadata": {
    "collapsed": true
   },
   "outputs": [],
   "source": [
    "def plot_1D(X, y):\n",
    "    # X is one dimensional\n",
    "    # y is one dimensional\n",
    "    #----\n",
    "    import numpy as np\n",
    "    import matplotlib.pyplot as plt\n",
    "\n",
    "    fig = plt.figure()\n",
    "    ax  = fig.add_subplot(1, 1, 1)\n",
    "\n",
    "    indxpos = np.where(y==1); indxneg = np.where(y == 0);\n",
    "\n",
    "    ax.plot(X[indxpos].flatten(), y[indxpos].flatten(),\n",
    "                               'r*', label=\"y = 1 cases \", markersize=14)\n",
    "    ax.plot(X[indxneg].flatten(), y[indxneg].flatten(),\n",
    "                               'bo', label=\"y = 0 cases\",markersize=8)\n",
    "    ax.set_ylim(-.2,1.4)\n",
    "    return fig, ax"
   ]
  },
  {
   "cell_type": "code",
   "execution_count": 11,
   "metadata": {
    "collapsed": true
   },
   "outputs": [],
   "source": [
    "# Load Data\n",
    "data = np.loadtxt('./Data/ex1_1D_data.dat', delimiter=',', skiprows=1)\n",
    "X = data[:,0]\n",
    "y = data[:,1]"
   ]
  },
  {
   "cell_type": "code",
   "execution_count": 12,
   "metadata": {
    "collapsed": false
   },
   "outputs": [
    {
     "data": {
      "image/png": "[encoded data removed]",
      "text/plain": [
       "<matplotlib.figure.Figure at 0x7f4d52efdb70>"
      ]
     },
     "metadata": {},
     "output_type": "display_data"
    }
   ],
   "source": [
    "fig, ax1 = plot_1D(X, y)\n",
    "#\n",
    "ax1.set_xlabel('Hours studying')\n",
    "ax1.set_ylabel('Passing the Exam')\n",
    "ax1.legend(bbox_to_anchor=(0., .9, 1., .9), loc=3,\n",
    "           ncol=2, mode=\"expand\", borderaxespad=0.)\n",
    "plt.show()"
   ]
  },
  {
   "cell_type": "code",
   "execution_count": 13,
   "metadata": {
    "collapsed": false
   },
   "outputs": [
    {
     "name": "stdout",
     "output_type": "stream",
     "text": [
      "    J at initial theta:  0.69314718056\n",
      "GradJ at initial theta: [ 0.      -0.50625]\n"
     ]
    }
   ],
   "source": [
    "if X.ndim==1: X=X[:,None] # Make a 1-column array\n",
    "m, n = np.shape(X) #\n",
    "\n",
    "# Add intercept term to X\n",
    "X = np.column_stack((np.ones(m), X))\n",
    "\n",
    "# Initialize theta parameters\n",
    "initial_theta = np.zeros(n + 1)\n",
    "\n",
    "J, gradJ = JandGrad(initial_theta, X, y)\n",
    "print ('    J at initial theta: ', J)\n",
    "print ('GradJ at initial theta:', gradJ)"
   ]
  },
  {
   "cell_type": "code",
   "execution_count": 14,
   "metadata": {
    "collapsed": false
   },
   "outputs": [],
   "source": [
    "res = sciopt.minimize(JandGrad, initial_theta, args=(X,y), \\\n",
    "                       method='BFGS', jac=True, options={'maxiter':400})\n",
    "theta = res.x\n",
    "J = res.fun"
   ]
  },
  {
   "cell_type": "code",
   "execution_count": 15,
   "metadata": {
    "collapsed": false
   },
   "outputs": [
    {
     "name": "stdout",
     "output_type": "stream",
     "text": [
      "Optimal theta: [-4.07771408  1.50464686]\n",
      "Cost J at optimal theta:  0.40149392321797317\n",
      "\n",
      "\n",
      "Result for     Hours =     1.5046\n",
      "Result for Intercept =    -4.0777\n"
     ]
    }
   ],
   "source": [
    "print ('Optimal theta:', theta)\n",
    "print ('Cost J at optimal theta: ', J)\n",
    "print('\\n')\n",
    "print('Result for     Hours = {0:10.4f}'.format(theta[1]) )\n",
    "print('Result for Intercept = {0:10.4f}'.format(theta[0]) )\n"
   ]
  },
  {
   "cell_type": "markdown",
   "metadata": {},
   "source": [
    "##### <font color=red>The data and its probability</font>"
   ]
  },
  {
   "cell_type": "code",
   "execution_count": 16,
   "metadata": {
    "collapsed": false
   },
   "outputs": [
    {
     "data": {
      "image/png": "[encoded data removed]",
      "text/plain": [
       "<matplotlib.figure.Figure at 0x7f4d52c82630>"
      ]
     },
     "metadata": {},
     "output_type": "display_data"
    }
   ],
   "source": [
    "u = np.dot(X,theta)\n",
    "h = sigmoid(u)\n",
    "\n",
    "fig, ax1 = plot_1D(data[:,0], y)\n",
    "\n",
    "ax1.plot(data[:,0],h)\n",
    "\n",
    "ax1.set_xlabel('Hours studying')\n",
    "ax1.set_ylabel('Passing the Exam')\n",
    "ax1.set_title('Probability of passing exam Vs Hours of studying')\n",
    "ax1.legend(bbox_to_anchor=(0., .9, 1., .9), loc=3,\n",
    "           ncol=2, mode=\"expand\", borderaxespad=0.)\n",
    "plt.show()\n"
   ]
  },
  {
   "cell_type": "markdown",
   "metadata": {},
   "source": [
    "##### <font color=red>Evaluating the prediction on the training data set</font>"
   ]
  },
  {
   "cell_type": "code",
   "execution_count": 17,
   "metadata": {
    "collapsed": false
   },
   "outputs": [
    {
     "name": "stdout",
     "output_type": "stream",
     "text": [
      "Train Accuracy: 80.00% \n"
     ]
    }
   ],
   "source": [
    "p = np.zeros(m)\n",
    "temp = np.dot(X, theta);\n",
    "indx=np.where(temp>=0)\n",
    "p[indx] = 1;\n",
    "print ('Train Accuracy: {0:4.2f}% '.format((np.mean(p == y) * 100)) )"
   ]
  },
  {
   "cell_type": "markdown",
   "metadata": {},
   "source": [
    "##### <font color=red>Making predictions:</font>"
   ]
  },
  {
   "cell_type": "code",
   "execution_count": 18,
   "metadata": {
    "collapsed": false
   },
   "outputs": [
    {
     "name": "stdout",
     "output_type": "stream",
     "text": [
      "The Probability of passing exam after 4 hours of studying is 0.87                                   \n"
     ]
    }
   ],
   "source": [
    "hours = 4\n",
    "x = np.array([1,hours])\n",
    "temp = np.dot(x, theta);\n",
    "print ('The Probability of passing exam after {0} hours of studying is {1:4.2f}\\\n",
    "                                   '.format(hours,(sigmoid(temp))) )"
   ]
  },
  {
   "cell_type": "markdown",
   "metadata": {},
   "source": [
    "##### <font color=red>Extra: finding the solution using the L-BFGS-B method</font>"
   ]
  },
  {
   "cell_type": "code",
   "execution_count": 19,
   "metadata": {
    "collapsed": false
   },
   "outputs": [],
   "source": [
    "res = sciopt.minimize(JandGrad, initial_theta, args=(X,y), \\\n",
    "                       method='L-BFGS-B', jac=True, options={'maxiter':400})\n",
    "theta = res.x\n",
    "J = res.fun"
   ]
  },
  {
   "cell_type": "code",
   "execution_count": 20,
   "metadata": {
    "collapsed": false
   },
   "outputs": [
    {
     "name": "stdout",
     "output_type": "stream",
     "text": [
      "Optimal theta: [-4.07771764  1.50464522]\n",
      "Cost J at optimal theta:  0.401493923219\n",
      "\n",
      "\n",
      "Result for     Hours =     1.5046\n",
      "Result for Intercept =    -4.0777\n"
     ]
    }
   ],
   "source": [
    "print ('Optimal theta:', theta)\n",
    "print ('Cost J at optimal theta: ', J)\n",
    "print('\\n')\n",
    "print('Result for     Hours = {0:10.4f}'.format(theta[1]) )\n",
    "print('Result for Intercept = {0:10.4f}'.format(theta[0]) )\n"
   ]
  },
  {
   "cell_type": "markdown",
   "metadata": {},
   "source": [
    "### <font color=red>References</font> #\n",
    "\n",
    "Additional discussion and examples can be found at:\n",
    "\n",
    "- Hosmer, D. W. Jr., Lemeshow, S., and Sturdivant, R. X. (2013) Applied Logistic Regression, 3rd. edition, Wiley.\n",
    "- [Scipy Lecture Notes: Mathematical optimization: finding minima of functions](http://www.scipy-lectures.org/advanced/mathematical_optimization/)\n",
    "- [SciPy Cookbook: Optimization and fitting](http://scipy-cookbook.readthedocs.io/items/idx_optimization_and_fitting.html)"
   ]
  },
  {
   "cell_type": "markdown",
   "metadata": {},
   "source": [
    ">#### Content under [Creative Commons Attribution license CC-BY 4.0](http://creativecommons.org/licenses/by/4.0/), [code under MIT license (c)](http://en.wikipedia.org/wiki/MIT_License)2016-2017 Sergio Rojas (srojas@usb.ve). ###\n"
   ]
  },
  {
   "cell_type": "code",
   "execution_count": null,
   "metadata": {
    "collapsed": true
   },
   "outputs": [],
   "source": []
  }
 ],
 "metadata": {
  "anaconda-cloud": {},
  "kernelspec": {
   "display_name": "Python [Root]",
   "language": "python",
   "name": "Python [Root]"
  },
  "language_info": {
   "codemirror_mode": {
    "name": "ipython",
    "version": 3
   },
   "file_extension": ".py",
   "mimetype": "text/x-python",
   "name": "python",
   "nbconvert_exporter": "python",
   "pygments_lexer": "ipython3",
   "version": "3.5.1"
  }
 },
 "nbformat": 4,
 "nbformat_minor": 0
}
