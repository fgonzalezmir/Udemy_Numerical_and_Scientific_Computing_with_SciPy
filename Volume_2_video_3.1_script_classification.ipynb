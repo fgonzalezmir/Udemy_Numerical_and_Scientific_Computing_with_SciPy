{
 "cells": [
  {
   "cell_type": "code",
   "execution_count": 1,
   "metadata": {
    "collapsed": false
   },
   "outputs": [
    {
     "data": {
      "application/javascript": [
       "IPython.notebook.set_autosave_interval(0)"
      ]
     },
     "metadata": {},
     "output_type": "display_data"
    },
    {
     "name": "stdout",
     "output_type": "stream",
     "text": [
      "Autosave disabled\n"
     ]
    }
   ],
   "source": [
    "%autosave 0"
   ]
  },
  {
   "cell_type": "code",
   "execution_count": 2,
   "metadata": {
    "collapsed": false
   },
   "outputs": [
    {
     "data": {
      "text/html": [
       "<style>\n",
       "\n",
       "div#notebook, div.CodeMirror, div.output_area pre, div.output_wrapper, div.promp\n",
       "t {\n",
       "  font-family: 'Inconsolata', monospace !important;\n",
       "  font-size: 14px;\n",
       "}\n",
       "\n",
       "@font-face {\n",
       "    font-family: \"Computer Modern\";\n",
       "    src: url('http://mirrors.ctan.org/fonts/cm-unicode/fonts/otf/cmunss.otf');\n",
       "}\n",
       "\n",
       "#notebook_panel { /* main background */\n",
       "    background: rgb(245,245,245);\n",
       "}\n",
       "\n",
       "div.cell { /* set cell width */\n",
       "    width: 850px;\n",
       "}\n",
       "\n",
       "div #notebook { /* centre the content */\n",
       "    background: #fff; /* white background for content */\n",
       "    width: 1000px;\n",
       "    margin: auto;\n",
       "    padding-left: 0em;\n",
       "}\n",
       "\n",
       "#notebook li { /* More space between bullet points */\n",
       "margin-top:0.8em;\n",
       "}\n",
       "\n",
       "/* draw border around running cells */\n",
       "div.cell.border-box-sizing.code_cell.running { \n",
       "    border: 1px solid #111;\n",
       "}\n",
       "\n",
       "/* Put a solid color box around each cell and its output, visually linking them*/\n",
       "div.cell.code_cell {\n",
       "    background-color: rgb(256,256,256); \n",
       "    border-radius: 0px; \n",
       "    padding: 0.5em;\n",
       "    margin-left:1em;\n",
       "    margin-top: 1em;\n",
       "}\n",
       "\n",
       "div.text_cell_render{\n",
       "    font-family: 'Alegreya Sans' sans-serif;\n",
       "    line-height: 140%;\n",
       "    font-size: 125%;\n",
       "    font-weight: 400;\n",
       "    width:700px;\n",
       "    margin-left:auto;\n",
       "    margin-right:auto;\n",
       "}\n",
       "\n",
       "\n",
       "/* Formatting for header cells */\n",
       ".text_cell_render h1 {\n",
       "    font-family: 'Nixie One', serif;\n",
       "    font-style:regular;\n",
       "    font-weight: 400;    \n",
       "    font-size: 45pt;\n",
       "    line-height: 100%;\n",
       "    color: rgb(0,51,102);\n",
       "    margin-bottom: 0.5em;\n",
       "    margin-top: 0.5em;\n",
       "    display: block;\n",
       "}\t\n",
       ".text_cell_render h2 {\n",
       "    font-family: 'Nixie One', serif;\n",
       "    font-weight: 400;\n",
       "    font-size: 30pt;\n",
       "    line-height: 100%;\n",
       "    color: rgb(0,51,102);\n",
       "    margin-bottom: 0.1em;\n",
       "    margin-top: 0.3em;\n",
       "    display: block;\n",
       "}\t\n",
       "\n",
       ".text_cell_render h3 {\n",
       "    font-family: 'Nixie One', serif;\n",
       "    margin-top:16px;\n",
       "\tfont-size: 22pt;\n",
       "    font-weight: 600;\n",
       "    margin-bottom: 3px;\n",
       "    font-style: regular;\n",
       "    color: rgb(102,102,0);\n",
       "}\n",
       "\n",
       ".text_cell_render h4 {    /*Use this for captions*/\n",
       "    font-family: 'Nixie One', serif;\n",
       "    font-size: 14pt;\n",
       "    text-align: center;\n",
       "    margin-top: 0em;\n",
       "    margin-bottom: 2em;\n",
       "    font-style: regular;\n",
       "}\n",
       "\n",
       ".text_cell_render h5 {  /*Use this for small titles*/\n",
       "    font-family: 'Nixie One', sans-serif;\n",
       "    font-weight: 400;\n",
       "    font-size: 16pt;\n",
       "    color: rgb(163,0,0);\n",
       "    font-style: italic;\n",
       "    margin-bottom: .1em;\n",
       "    margin-top: 0.8em;\n",
       "    display: block;\n",
       "}\n",
       "\n",
       ".text_cell_render h6 { /*use this for copyright note*/\n",
       "    font-family: 'PT Mono', sans-serif;\n",
       "    font-weight: 300;\n",
       "    font-size: 9pt;\n",
       "    line-height: 100%;\n",
       "    color: grey;\n",
       "    margin-bottom: 1px;\n",
       "    margin-top: 1px;\n",
       "}\n",
       "\n",
       ".CodeMirror{\n",
       "        font-family: \"PT Mono\";\n",
       "        font-size: 90%;\n",
       "}\n",
       "\n",
       "</style>\n",
       "<script>\n",
       "    MathJax.Hub.Config({\n",
       "                        TeX: {\n",
       "                           extensions: [\"AMSmath.js\"],\n",
       "                           equationNumbers: { autoNumber: \"AMS\", useLabelIds: true}\n",
       "                           },\n",
       "                tex2jax: {\n",
       "                    inlineMath: [ ['$','$'], [\"\\\\(\",\"\\\\)\"] ],\n",
       "                    displayMath: [ ['$$','$$'], [\"\\\\[\",\"\\\\]\"] ]\n",
       "                },\n",
       "                displayAlign: 'center', // Change this to 'center' to center equations.\n",
       "                \"HTML-CSS\": {\n",
       "                    styles: {'.MathJax_Display': {\"margin\": 4}}\n",
       "                }\n",
       "        });\n",
       "</script>\n"
      ],
      "text/plain": [
       "<IPython.core.display.HTML object>"
      ]
     },
     "execution_count": 2,
     "metadata": {},
     "output_type": "execute_result"
    }
   ],
   "source": [
    "from IPython.core.display import HTML\n",
    "#css_file = '../../../style/style03my.css'\n",
    "css_file = '../../../style/style01.css'\n",
    "HTML(open(css_file, \"r\").read())"
   ]
  },
  {
   "cell_type": "markdown",
   "metadata": {},
   "source": [
    ">### [Sergio Rojas](http://prof.usb.ve/srojas)<br>\n",
    "[Departamento de F&iacute;sica](http://www.fis.usb.ve/), [Universidad Sim&oacute;n Bol&iacute;var](http://www.usb.ve/), [Venezuela](http://es.wikipedia.org/wiki/Venezuela)"
   ]
  },
  {
   "cell_type": "markdown",
   "metadata": {},
   "source": [
    ">#### Content under [Creative Commons Attribution license CC-BY 4.0](http://creativecommons.org/licenses/by/4.0/), [code under MIT license (c)](http://en.wikipedia.org/wiki/MIT_License)2016-2017 Sergio Rojas (srojas@usb.ve).###"
   ]
  },
  {
   "cell_type": "code",
   "execution_count": 3,
   "metadata": {
    "collapsed": true
   },
   "outputs": [],
   "source": [
    "from IPython.display import HTML\n",
    "from IPython.display import Image"
   ]
  },
  {
   "cell_type": "code",
   "execution_count": 4,
   "metadata": {
    "collapsed": false
   },
   "outputs": [],
   "source": [
    "#Image(filename='./img/ex_regression.png', width=720, height=720)"
   ]
  },
  {
   "cell_type": "code",
   "execution_count": 5,
   "metadata": {
    "collapsed": false
   },
   "outputs": [],
   "source": [
    "#HTML('<iframe src=https://docs.scipy.org/doc/scipy/reference/optimize.html width=700 height=350></iframe>')"
   ]
  },
  {
   "cell_type": "markdown",
   "metadata": {},
   "source": [
    "### <center><font color=red>[Overview of classification](https://en.wikipedia.org/wiki/Statistical_classification)</font> </center>#"
   ]
  },
  {
   "cell_type": "code",
   "execution_count": 6,
   "metadata": {
    "collapsed": false
   },
   "outputs": [
    {
     "data": {
      "text/html": [
       "<iframe src=https://en.wikipedia.org/wiki/Statistical_classification width=700 height=350></iframe>"
      ],
      "text/plain": [
       "<IPython.core.display.HTML object>"
      ]
     },
     "execution_count": 6,
     "metadata": {},
     "output_type": "execute_result"
    }
   ],
   "source": [
    "HTML('<iframe src=https://en.wikipedia.org/wiki/Statistical_classification width=700 height=350></iframe>')"
   ]
  },
  {
   "cell_type": "markdown",
   "metadata": {},
   "source": [
    "### <center><font color=red>[The logistic regression algorithm](https://en.wikipedia.org/wiki/Logistic_regression)</font></center> #"
   ]
  },
  {
   "cell_type": "markdown",
   "metadata": {},
   "source": [
    "\n",
    "\n",
    "\\begin{aligned}\n",
    "        {\\textbf h}_{\\theta}(x) = S({\\mathbf \\theta}^{\\mathbf T}{\\textbf X}) = \\frac{1}{1 + e^{-\\, {\\mathbf \\theta}^{\\mathbf T}{\\textbf X}}}      \n",
    "%        \n",
    "        \\end{aligned}\n",
    "        \n",
    "  \\begin{aligned}\n",
    "        S(x) = \\frac{1}{1 + e^{-x}} = \\frac{1}{2} + \\frac{1}{2}tanh(\\frac{x}{2})  \n",
    "%        \n",
    "        \\end{aligned}\n",
    "where $S(x)$ is known as the [logistic (sigmoid) function](https://en.wikipedia.org/wiki/Sigmoid_function). It is the cumulative distribution function of the logistic distribution shown below.\n",
    "        \n",
    "The ${\\textbf X}$ is a mtrix of $n$ independent variables or features vectors, containing $m$ observations, with the first vector ${\\textbf X}_0$ conveniently defined with all its components having the value one. "
   ]
  },
  {
   "cell_type": "markdown",
   "metadata": {},
   "source": [
    "#####  <font color=red>[The logistic distribution function](https://en.wikipedia.org/wiki/Logistic_distribution)</font> "
   ]
  },
  {
   "cell_type": "markdown",
   "metadata": {},
   "source": [
    "  \\begin{aligned}\n",
    "        \\Pi(x) = \\frac{e^{x}}{ (1 + e^{x})^2  }  = \\frac{1}{4}sech^2(\\frac{x}{2})     \n",
    "        \\end{aligned}"
   ]
  },
  {
   "cell_type": "markdown",
   "metadata": {},
   "source": [
    "#####  <font color=red>The probabilistic interpretation for prediction</font> "
   ]
  },
  {
   "cell_type": "markdown",
   "metadata": {},
   "source": [
    "Assume that the outcome \n",
    "$$\n",
    "y = \\begin{cases}\n",
    "   1  & \\text{if ${\\textbf h}_{\\theta}(x) \\ge 0.5$} \\\\\n",
    "   0  & \\text{ otherwise }\n",
    "   \\end{cases}\n",
    "$$     \n",
    "Since $S(x) \\ge 0.5$ if $x \\ge 0$, the above condition means to predict $y=1$ if ${\\mathbf \\theta}^{\\mathbf T}{\\textbf X} \\ge 0$ and to predict $y=0$ if ${\\mathbf \\theta}^{\\mathbf T}{\\textbf X} \\lt 0$ (the condition ${\\mathbf \\theta}^{\\mathbf T}{\\textbf X} = 0$ gives what is called the <b>decission boundary</b>."
   ]
  },
  {
   "cell_type": "markdown",
   "metadata": {},
   "source": [
    "##### <font color=red>Findin the parameter $ \\theta $</font>"
   ]
  },
  {
   "cell_type": "markdown",
   "metadata": {},
   "source": [
    "To find the best parameters $\\theta_i$, the opimization problem is usually posed in terms of ** *minimizing* ** the (convex) cost measure:"
   ]
  },
  {
   "cell_type": "markdown",
   "metadata": {},
   "source": [
    "\\begin{aligned}\n",
    "        J(\\theta) &= \\frac{1}{m} \\sum_{i=1}^{m} j(h_{\\theta}(x^{(i)}), y^{(i)}) \\\\\n",
    "        % j(h_{\\theta}(x), y) &= \\frac{1}{2}\n",
    "        % \\left[ h_{\\theta}(x) - y \\right]^2 \\\\\n",
    "j(h_{\\theta}(x), y)  &= \\begin{cases}\n",
    "   -\\ln{\\left[ {\\textbf h}_{\\theta}(x) \\right]} & \\text{if $ y = 1$} \\\\\n",
    "   -\\ln{\\left[1 - {\\textbf h}_{\\theta}(x) \\right]} & \\text{if $ y = 0 $ }\n",
    "   \\end{cases}    \\\\      \n",
    "        J(\\theta) &= - \\frac{1}{m} \\sum_{i=1}^{m} \\left( \n",
    "        y{(i)}\\ln\\left[{h_{\\theta}(x^{(i)})}\\right] + \\left( 1 -y^{(i)}\\right)\\ln\\left[1 - {h_{\\theta}(x^{(i)})}\\right]  \\right)\n",
    "        \\end{aligned}"
   ]
  },
  {
   "cell_type": "markdown",
   "metadata": {},
   "source": [
    "where the upper index $(i)$ represents the $i_{\\text{th}}$ observed (measured) value of the respective variable (here we are assuming there are $m$ observations of the quantity $y$ corresponding to $m$ simultaneuos observations for each one of the $n$ variables on which the quantity $y$ depends on).\n",
    "\n",
    "<font color=red>**minimizing** $J(\\theta)$ we find the $\\theta$'s. Then, given an $\\mathbf{X}$, predictions can be made using</font>:\n",
    "\\begin{aligned}\n",
    "        {\\textbf h}_{\\theta}(x) = \\frac{1}{1 + e^{-\\, {\\mathbf \\theta}^{\\mathbf T}{\\textbf X}}}      \n",
    "%        \n",
    "        \\end{aligned}\n"
   ]
  },
  {
   "cell_type": "markdown",
   "metadata": {},
   "source": [
    "##### <font color=red>Gradint descent</font>"
   ]
  },
  {
   "cell_type": "markdown",
   "metadata": {
    "collapsed": true
   },
   "source": [
    "As we know the ** *gradient descent* ** algorithm requires starting with a set of initial values for the parameters $\\theta_0$, $\\theta_1$, $\\theta_2$,$\\cdots$, $\\theta_n$ which are then updated according to the rule:"
   ]
  },
  {
   "cell_type": "markdown",
   "metadata": {},
   "source": [
    "\\begin{aligned}\n",
    "\\theta_k = \\theta_k - \\alpha \\frac{\\partial J(\\theta)}{\\!\\!\\!\\! \\partial \\theta_k}, \n",
    "\\end{aligned}"
   ]
  },
  {
   "cell_type": "markdown",
   "metadata": {},
   "source": [
    "For this case, the required derivative of $J(\\theta)$ respect each one of the $\\theta_i$'s, is readily obtained in the form:"
   ]
  },
  {
   "cell_type": "markdown",
   "metadata": {},
   "source": [
    "\\begin{aligned}\n",
    "        \\frac{\\partial J(\\theta)}{\\!\\!\\!\\! \\partial \\theta_k} \n",
    "                  &= \\frac{1}{m}\\sum_{i=1}^m \\left[{h_{\\theta}(x^{(i)})} - y^{(i)})\\right]x^{(i)}_{k}\n",
    "        \\end{aligned}"
   ]
  },
  {
   "cell_type": "markdown",
   "metadata": {},
   "source": [
    "### <font color=red>References</font> #\n",
    "\n",
    "Additional discussion and examples can be found at:\n",
    "\n",
    "- Hosmer, D. W. Jr., Lemeshow, S., and Sturdivant, R. X. (2013) Applied Logistic Regression, 3rd. edition, Wiley.\n"
   ]
  },
  {
   "cell_type": "markdown",
   "metadata": {},
   "source": [
    ">#### Content under [Creative Commons Attribution license CC-BY 4.0](http://creativecommons.org/licenses/by/4.0/), [code under MIT license (c)](http://en.wikipedia.org/wiki/MIT_License)2016-2017 Sergio Rojas (srojas@usb.ve). ###\n"
   ]
  },
  {
   "cell_type": "code",
   "execution_count": null,
   "metadata": {
    "collapsed": true
   },
   "outputs": [],
   "source": []
  }
 ],
 "metadata": {
  "anaconda-cloud": {},
  "kernelspec": {
   "display_name": "Python [Root]",
   "language": "python",
   "name": "Python [Root]"
  },
  "language_info": {
   "codemirror_mode": {
    "name": "ipython",
    "version": 3
   },
   "file_extension": ".py",
   "mimetype": "text/x-python",
   "name": "python",
   "nbconvert_exporter": "python",
   "pygments_lexer": "ipython3",
   "version": "3.5.1"
  }
 },
 "nbformat": 4,
 "nbformat_minor": 0
}
